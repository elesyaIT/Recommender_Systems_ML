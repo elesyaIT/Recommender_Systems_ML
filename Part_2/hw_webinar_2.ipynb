{
 "cells": [
  {
   "cell_type": "code",
   "execution_count": 18,
   "metadata": {
    "colab": {},
    "colab_type": "code",
    "id": "rgIzW-DSC8Yi"
   },
   "outputs": [],
   "source": [
    "import pandas as pd\n",
    "import numpy as np\n",
    "import matplotlib.pyplot as plt\n",
    "%matplotlib inline\n",
    "\n",
    "# Для работы с матрицами\n",
    "from scipy.sparse import csr_matrix, coo_matrix\n",
    "\n",
    "# Детерминированные алгоритмы\n",
    "from implicit.nearest_neighbours import ItemItemRecommender, CosineRecommender, TFIDFRecommender, BM25Recommender\n",
    "\n",
    "# Метрики\n",
    "from implicit.evaluation import train_test_split\n",
    "from implicit.evaluation import precision_at_k, mean_average_precision_at_k, AUC_at_k, ndcg_at_k\n",
    "\n",
    "from metrics import precision_at_k, recall_at_k"
   ]
  },
  {
   "cell_type": "code",
   "execution_count": 2,
   "metadata": {
    "colab": {},
    "colab_type": "code",
    "id": "9qFkcgyrC8Yt",
    "outputId": "24a33bf1-942a-4b18-c54a-a7500c8f8712"
   },
   "outputs": [
    {
     "data": {
      "text/html": [
       "<div>\n",
       "<style scoped>\n",
       "    .dataframe tbody tr th:only-of-type {\n",
       "        vertical-align: middle;\n",
       "    }\n",
       "\n",
       "    .dataframe tbody tr th {\n",
       "        vertical-align: top;\n",
       "    }\n",
       "\n",
       "    .dataframe thead th {\n",
       "        text-align: right;\n",
       "    }\n",
       "</style>\n",
       "<table border=\"1\" class=\"dataframe\">\n",
       "  <thead>\n",
       "    <tr style=\"text-align: right;\">\n",
       "      <th></th>\n",
       "      <th>user_id</th>\n",
       "      <th>basket_id</th>\n",
       "      <th>day</th>\n",
       "      <th>item_id</th>\n",
       "      <th>quantity</th>\n",
       "      <th>sales_value</th>\n",
       "      <th>store_id</th>\n",
       "      <th>retail_disc</th>\n",
       "      <th>trans_time</th>\n",
       "      <th>week_no</th>\n",
       "      <th>coupon_disc</th>\n",
       "      <th>coupon_match_disc</th>\n",
       "    </tr>\n",
       "  </thead>\n",
       "  <tbody>\n",
       "    <tr>\n",
       "      <th>0</th>\n",
       "      <td>2375</td>\n",
       "      <td>26984851472</td>\n",
       "      <td>1</td>\n",
       "      <td>1004906</td>\n",
       "      <td>1</td>\n",
       "      <td>1.39</td>\n",
       "      <td>364</td>\n",
       "      <td>-0.6</td>\n",
       "      <td>1631</td>\n",
       "      <td>1</td>\n",
       "      <td>0.0</td>\n",
       "      <td>0.0</td>\n",
       "    </tr>\n",
       "    <tr>\n",
       "      <th>1</th>\n",
       "      <td>2375</td>\n",
       "      <td>26984851472</td>\n",
       "      <td>1</td>\n",
       "      <td>1033142</td>\n",
       "      <td>1</td>\n",
       "      <td>0.82</td>\n",
       "      <td>364</td>\n",
       "      <td>0.0</td>\n",
       "      <td>1631</td>\n",
       "      <td>1</td>\n",
       "      <td>0.0</td>\n",
       "      <td>0.0</td>\n",
       "    </tr>\n",
       "  </tbody>\n",
       "</table>\n",
       "</div>"
      ],
      "text/plain": [
       "   user_id    basket_id  day  item_id  quantity  sales_value  store_id  \\\n",
       "0     2375  26984851472    1  1004906         1         1.39       364   \n",
       "1     2375  26984851472    1  1033142         1         0.82       364   \n",
       "\n",
       "   retail_disc  trans_time  week_no  coupon_disc  coupon_match_disc  \n",
       "0         -0.6        1631        1          0.0                0.0  \n",
       "1          0.0        1631        1          0.0                0.0  "
      ]
     },
     "execution_count": 2,
     "metadata": {},
     "output_type": "execute_result"
    }
   ],
   "source": [
    "data = pd.read_csv('data/retail_train.csv')\n",
    "data.head(2)"
   ]
  },
  {
   "cell_type": "code",
   "execution_count": 3,
   "metadata": {
    "colab": {},
    "colab_type": "code",
    "id": "epcBZlgJC8Y0"
   },
   "outputs": [],
   "source": [
    "test_size_weeks = 3\n",
    "\n",
    "data_train = data[data['week_no'] < data['week_no'].max() - test_size_weeks]\n",
    "data_test = data[data['week_no'] >= data['week_no'].max() - test_size_weeks]"
   ]
  },
  {
   "cell_type": "code",
   "execution_count": null,
   "metadata": {},
   "outputs": [],
   "source": []
  },
  {
   "cell_type": "code",
   "execution_count": 4,
   "metadata": {},
   "outputs": [
    {
     "data": {
      "text/html": [
       "<div>\n",
       "<style scoped>\n",
       "    .dataframe tbody tr th:only-of-type {\n",
       "        vertical-align: middle;\n",
       "    }\n",
       "\n",
       "    .dataframe tbody tr th {\n",
       "        vertical-align: top;\n",
       "    }\n",
       "\n",
       "    .dataframe thead th {\n",
       "        text-align: right;\n",
       "    }\n",
       "</style>\n",
       "<table border=\"1\" class=\"dataframe\">\n",
       "  <thead>\n",
       "    <tr style=\"text-align: right;\">\n",
       "      <th></th>\n",
       "      <th>user_id</th>\n",
       "      <th>actual</th>\n",
       "    </tr>\n",
       "  </thead>\n",
       "  <tbody>\n",
       "    <tr>\n",
       "      <th>0</th>\n",
       "      <td>1</td>\n",
       "      <td>[821867, 834484, 856942, 865456, 889248, 90795...</td>\n",
       "    </tr>\n",
       "    <tr>\n",
       "      <th>1</th>\n",
       "      <td>3</td>\n",
       "      <td>[835476, 851057, 872021, 878302, 879948, 90963...</td>\n",
       "    </tr>\n",
       "  </tbody>\n",
       "</table>\n",
       "</div>"
      ],
      "text/plain": [
       "   user_id                                             actual\n",
       "0        1  [821867, 834484, 856942, 865456, 889248, 90795...\n",
       "1        3  [835476, 851057, 872021, 878302, 879948, 90963..."
      ]
     },
     "execution_count": 4,
     "metadata": {},
     "output_type": "execute_result"
    }
   ],
   "source": [
    "result = data_test.groupby('user_id')['item_id'].unique().reset_index()\n",
    "result.columns=['user_id', 'actual']\n",
    "result.head(2)"
   ]
  },
  {
   "cell_type": "markdown",
   "metadata": {
    "colab_type": "text",
    "id": "zlUUzLFeC8Y4"
   },
   "source": [
    "### Задание 1. Weighted Random Recommendation\n",
    "\n",
    "Напишите код для случайных рекоммендаций, в которых вероятность рекомендовать товар прямо пропорциональна логарифму продаж\n",
    "- Можно сэмплировать товары случайно, но пропорционально какому-либо весу\n",
    "- Например, прямопропорционально популярности. Вес = log(sales_sum товара)"
   ]
  },
  {
   "cell_type": "code",
   "execution_count": 5,
   "metadata": {
    "colab": {},
    "colab_type": "code",
    "id": "brMuCHolC8Y4"
   },
   "outputs": [],
   "source": [
    "def weighted_random_recommendation(items_weights,p_log, n=5):\n",
    "    \"\"\"Случайные рекоммендации\n",
    "    \n",
    "    Input\n",
    "    -----\n",
    "    items_weights: pd.DataFrame\n",
    "        Датафрейм со столбцами item_id, weight. Сумма weight по всем товарам = 1\n",
    "    \"\"\"\n",
    "    \n",
    "    # Подсказка: необходимо модифицировать функцию random_recommendation()\n",
    "    # your_code\n",
    "    recs = np.random.choice(items, size=n, replace=False, p=p_log)\n",
    "    \n",
    "    return recs.tolist()"
   ]
  },
  {
   "cell_type": "code",
   "execution_count": 6,
   "metadata": {},
   "outputs": [],
   "source": [
    "def data_prep(df, func):\n",
    "    # список уникальных товаров\n",
    "    items = df.item_id.unique()\n",
    "\n",
    "    items = np.array(items)\n",
    "\n",
    "    # датафрейм с количеством каждого товара\n",
    "    count_df = df.groupby('item_id').item_id.agg(['count'])\n",
    "\n",
    "    # добавляем в датафрейм строчку с пересчитанными товарами в веса\n",
    "    count_df['weight'] = func(count_df['count'] / count_df['count'].sum())\n",
    "\n",
    "    # перводим items в датафрейм \n",
    "    items_df = pd.DataFrame(items, columns = ['item_id'])\n",
    "\n",
    "\n",
    "    # создаём датафрейм item - вероятность с сохранением порядка item'ов\n",
    "    probability_df = pd.merge(items_df, count_df, on='item_id', how='left')\n",
    "\n",
    "    # заполняем пустые item's нулями\n",
    "    probability_df.fillna(value=0, inplace=True)\n",
    "\n",
    "    # берём столбец вероятностей и переводим его в numpy-array\n",
    "    p = np.array(probability_df.to_numpy()[:, 2])\n",
    "\n",
    "    # нормализация вероятностей для того чтобы они  были = 1\n",
    "    p /= p.sum() \n",
    "    \n",
    "    return items, p"
   ]
  },
  {
   "cell_type": "code",
   "execution_count": 7,
   "metadata": {},
   "outputs": [
    {
     "name": "stdout",
     "output_type": "stream",
     "text": [
      "CPU times: user 2.04 s, sys: 152 ms, total: 2.2 s\n",
      "Wall time: 2.03 s\n"
     ]
    },
    {
     "data": {
      "text/html": [
       "<div>\n",
       "<style scoped>\n",
       "    .dataframe tbody tr th:only-of-type {\n",
       "        vertical-align: middle;\n",
       "    }\n",
       "\n",
       "    .dataframe tbody tr th {\n",
       "        vertical-align: top;\n",
       "    }\n",
       "\n",
       "    .dataframe thead th {\n",
       "        text-align: right;\n",
       "    }\n",
       "</style>\n",
       "<table border=\"1\" class=\"dataframe\">\n",
       "  <thead>\n",
       "    <tr style=\"text-align: right;\">\n",
       "      <th></th>\n",
       "      <th>user_id</th>\n",
       "      <th>actual</th>\n",
       "      <th>weighted log rand rec</th>\n",
       "    </tr>\n",
       "  </thead>\n",
       "  <tbody>\n",
       "    <tr>\n",
       "      <th>0</th>\n",
       "      <td>1</td>\n",
       "      <td>[821867, 834484, 856942, 865456, 889248, 90795...</td>\n",
       "      <td>[1214177, 935833, 53337, 1227043, 477610]</td>\n",
       "    </tr>\n",
       "    <tr>\n",
       "      <th>1</th>\n",
       "      <td>3</td>\n",
       "      <td>[835476, 851057, 872021, 878302, 879948, 90963...</td>\n",
       "      <td>[969727, 846176, 8158410, 13008098, 1917729]</td>\n",
       "    </tr>\n",
       "    <tr>\n",
       "      <th>2</th>\n",
       "      <td>6</td>\n",
       "      <td>[920308, 926804, 946489, 1006718, 1017061, 107...</td>\n",
       "      <td>[6442764, 12731620, 1148215, 1079563, 13910853]</td>\n",
       "    </tr>\n",
       "  </tbody>\n",
       "</table>\n",
       "</div>"
      ],
      "text/plain": [
       "   user_id                                             actual  \\\n",
       "0        1  [821867, 834484, 856942, 865456, 889248, 90795...   \n",
       "1        3  [835476, 851057, 872021, 878302, 879948, 90963...   \n",
       "2        6  [920308, 926804, 946489, 1006718, 1017061, 107...   \n",
       "\n",
       "                             weighted log rand rec  \n",
       "0        [1214177, 935833, 53337, 1227043, 477610]  \n",
       "1     [969727, 846176, 8158410, 13008098, 1917729]  \n",
       "2  [6442764, 12731620, 1148215, 1079563, 13910853]  "
      ]
     },
     "execution_count": 7,
     "metadata": {},
     "output_type": "execute_result"
    }
   ],
   "source": [
    "%%time\n",
    "items, p_log = data_prep(data_train, np.log)\n",
    "\n",
    "result['weighted log rand rec'] = result['user_id'].apply(lambda x: weighted_random_recommendation(items, p_log, n=5))\n",
    "\n",
    "result.head(3)"
   ]
  },
  {
   "cell_type": "markdown",
   "metadata": {
    "colab_type": "text",
    "id": "igDU0j1cC8ZH"
   },
   "source": [
    "## Задание 2. Улучшение бейзлайнов и ItemItem\n",
    "\n",
    "- Попробуйте улучшить бейзлайны, считая случаный на топ-5000 товаров\n",
    "- Попробуйте улучшить разные варианты ItemItemRecommender, выбирая число соседей $K$."
   ]
  },
  {
   "cell_type": "code",
   "execution_count": 8,
   "metadata": {},
   "outputs": [
    {
     "name": "stderr",
     "output_type": "stream",
     "text": [
      "/home/recpi/anaconda3/lib/python3.8/site-packages/pandas/core/indexing.py:1765: SettingWithCopyWarning: \n",
      "A value is trying to be set on a copy of a slice from a DataFrame.\n",
      "Try using .loc[row_indexer,col_indexer] = value instead\n",
      "\n",
      "See the caveats in the documentation: https://pandas.pydata.org/pandas-docs/stable/user_guide/indexing.html#returning-a-view-versus-a-copy\n",
      "  isetter(loc, value)\n"
     ]
    }
   ],
   "source": [
    "\n",
    "popularity = data_train.groupby('item_id')['quantity'].sum().reset_index()\n",
    "popularity.rename(columns={'quantity': 'n_sold'}, inplace=True)\n",
    "top_5000 = popularity.sort_values('n_sold', ascending=False).head(5000).item_id.tolist()\n",
    "\n",
    "data_train.loc[~data_train['item_id'].isin(top_5000), 'item_id'] = 6666\n",
    "data_train_top5000 = data_train.loc[data_train['item_id'] != 6666]\n"
   ]
  },
  {
   "cell_type": "code",
   "execution_count": 9,
   "metadata": {
    "colab": {},
    "colab_type": "code",
    "id": "zYBR3cMPC8ZH"
   },
   "outputs": [
    {
     "data": {
      "text/html": [
       "<div>\n",
       "<style scoped>\n",
       "    .dataframe tbody tr th:only-of-type {\n",
       "        vertical-align: middle;\n",
       "    }\n",
       "\n",
       "    .dataframe tbody tr th {\n",
       "        vertical-align: top;\n",
       "    }\n",
       "\n",
       "    .dataframe thead th {\n",
       "        text-align: right;\n",
       "    }\n",
       "</style>\n",
       "<table border=\"1\" class=\"dataframe\">\n",
       "  <thead>\n",
       "    <tr style=\"text-align: right;\">\n",
       "      <th></th>\n",
       "      <th>user_id</th>\n",
       "      <th>basket_id</th>\n",
       "      <th>day</th>\n",
       "      <th>item_id</th>\n",
       "      <th>quantity</th>\n",
       "      <th>sales_value</th>\n",
       "      <th>store_id</th>\n",
       "      <th>retail_disc</th>\n",
       "      <th>trans_time</th>\n",
       "      <th>week_no</th>\n",
       "      <th>coupon_disc</th>\n",
       "      <th>coupon_match_disc</th>\n",
       "    </tr>\n",
       "  </thead>\n",
       "  <tbody>\n",
       "    <tr>\n",
       "      <th>0</th>\n",
       "      <td>2375</td>\n",
       "      <td>26984851472</td>\n",
       "      <td>1</td>\n",
       "      <td>1004906</td>\n",
       "      <td>1</td>\n",
       "      <td>1.39</td>\n",
       "      <td>364</td>\n",
       "      <td>-0.60</td>\n",
       "      <td>1631</td>\n",
       "      <td>1</td>\n",
       "      <td>0.0</td>\n",
       "      <td>0.0</td>\n",
       "    </tr>\n",
       "    <tr>\n",
       "      <th>1</th>\n",
       "      <td>2375</td>\n",
       "      <td>26984851472</td>\n",
       "      <td>1</td>\n",
       "      <td>1033142</td>\n",
       "      <td>1</td>\n",
       "      <td>0.82</td>\n",
       "      <td>364</td>\n",
       "      <td>0.00</td>\n",
       "      <td>1631</td>\n",
       "      <td>1</td>\n",
       "      <td>0.0</td>\n",
       "      <td>0.0</td>\n",
       "    </tr>\n",
       "    <tr>\n",
       "      <th>2</th>\n",
       "      <td>2375</td>\n",
       "      <td>26984851472</td>\n",
       "      <td>1</td>\n",
       "      <td>1036325</td>\n",
       "      <td>1</td>\n",
       "      <td>0.99</td>\n",
       "      <td>364</td>\n",
       "      <td>-0.30</td>\n",
       "      <td>1631</td>\n",
       "      <td>1</td>\n",
       "      <td>0.0</td>\n",
       "      <td>0.0</td>\n",
       "    </tr>\n",
       "    <tr>\n",
       "      <th>3</th>\n",
       "      <td>2375</td>\n",
       "      <td>26984851472</td>\n",
       "      <td>1</td>\n",
       "      <td>1082185</td>\n",
       "      <td>1</td>\n",
       "      <td>1.21</td>\n",
       "      <td>364</td>\n",
       "      <td>0.00</td>\n",
       "      <td>1631</td>\n",
       "      <td>1</td>\n",
       "      <td>0.0</td>\n",
       "      <td>0.0</td>\n",
       "    </tr>\n",
       "    <tr>\n",
       "      <th>4</th>\n",
       "      <td>2375</td>\n",
       "      <td>26984851472</td>\n",
       "      <td>1</td>\n",
       "      <td>8160430</td>\n",
       "      <td>1</td>\n",
       "      <td>1.50</td>\n",
       "      <td>364</td>\n",
       "      <td>-0.39</td>\n",
       "      <td>1631</td>\n",
       "      <td>1</td>\n",
       "      <td>0.0</td>\n",
       "      <td>0.0</td>\n",
       "    </tr>\n",
       "    <tr>\n",
       "      <th>5</th>\n",
       "      <td>2375</td>\n",
       "      <td>26984851516</td>\n",
       "      <td>1</td>\n",
       "      <td>826249</td>\n",
       "      <td>2</td>\n",
       "      <td>1.98</td>\n",
       "      <td>364</td>\n",
       "      <td>-0.60</td>\n",
       "      <td>1642</td>\n",
       "      <td>1</td>\n",
       "      <td>0.0</td>\n",
       "      <td>0.0</td>\n",
       "    </tr>\n",
       "    <tr>\n",
       "      <th>7</th>\n",
       "      <td>2375</td>\n",
       "      <td>26984851516</td>\n",
       "      <td>1</td>\n",
       "      <td>1085983</td>\n",
       "      <td>1</td>\n",
       "      <td>2.99</td>\n",
       "      <td>364</td>\n",
       "      <td>-0.40</td>\n",
       "      <td>1642</td>\n",
       "      <td>1</td>\n",
       "      <td>0.0</td>\n",
       "      <td>0.0</td>\n",
       "    </tr>\n",
       "    <tr>\n",
       "      <th>11</th>\n",
       "      <td>1364</td>\n",
       "      <td>26984896261</td>\n",
       "      <td>1</td>\n",
       "      <td>842930</td>\n",
       "      <td>1</td>\n",
       "      <td>2.19</td>\n",
       "      <td>31742</td>\n",
       "      <td>0.00</td>\n",
       "      <td>1520</td>\n",
       "      <td>1</td>\n",
       "      <td>0.0</td>\n",
       "      <td>0.0</td>\n",
       "    </tr>\n",
       "    <tr>\n",
       "      <th>15</th>\n",
       "      <td>1364</td>\n",
       "      <td>26984896261</td>\n",
       "      <td>1</td>\n",
       "      <td>981760</td>\n",
       "      <td>1</td>\n",
       "      <td>0.60</td>\n",
       "      <td>31742</td>\n",
       "      <td>-0.79</td>\n",
       "      <td>1520</td>\n",
       "      <td>1</td>\n",
       "      <td>0.0</td>\n",
       "      <td>0.0</td>\n",
       "    </tr>\n",
       "    <tr>\n",
       "      <th>16</th>\n",
       "      <td>1130</td>\n",
       "      <td>26984905972</td>\n",
       "      <td>1</td>\n",
       "      <td>833715</td>\n",
       "      <td>2</td>\n",
       "      <td>0.34</td>\n",
       "      <td>31642</td>\n",
       "      <td>-0.32</td>\n",
       "      <td>1340</td>\n",
       "      <td>1</td>\n",
       "      <td>0.0</td>\n",
       "      <td>0.0</td>\n",
       "    </tr>\n",
       "    <tr>\n",
       "      <th>17</th>\n",
       "      <td>1130</td>\n",
       "      <td>26984905972</td>\n",
       "      <td>1</td>\n",
       "      <td>866950</td>\n",
       "      <td>2</td>\n",
       "      <td>0.34</td>\n",
       "      <td>31642</td>\n",
       "      <td>-0.32</td>\n",
       "      <td>1340</td>\n",
       "      <td>1</td>\n",
       "      <td>0.0</td>\n",
       "      <td>0.0</td>\n",
       "    </tr>\n",
       "    <tr>\n",
       "      <th>18</th>\n",
       "      <td>1130</td>\n",
       "      <td>26984905972</td>\n",
       "      <td>1</td>\n",
       "      <td>1022843</td>\n",
       "      <td>2</td>\n",
       "      <td>0.34</td>\n",
       "      <td>31642</td>\n",
       "      <td>-0.32</td>\n",
       "      <td>1340</td>\n",
       "      <td>1</td>\n",
       "      <td>0.0</td>\n",
       "      <td>0.0</td>\n",
       "    </tr>\n",
       "    <tr>\n",
       "      <th>19</th>\n",
       "      <td>1130</td>\n",
       "      <td>26984905972</td>\n",
       "      <td>1</td>\n",
       "      <td>1048462</td>\n",
       "      <td>1</td>\n",
       "      <td>1.19</td>\n",
       "      <td>31642</td>\n",
       "      <td>-0.80</td>\n",
       "      <td>1340</td>\n",
       "      <td>1</td>\n",
       "      <td>0.0</td>\n",
       "      <td>0.0</td>\n",
       "    </tr>\n",
       "    <tr>\n",
       "      <th>20</th>\n",
       "      <td>1130</td>\n",
       "      <td>26984905972</td>\n",
       "      <td>1</td>\n",
       "      <td>1071333</td>\n",
       "      <td>2</td>\n",
       "      <td>0.34</td>\n",
       "      <td>31642</td>\n",
       "      <td>-0.32</td>\n",
       "      <td>1340</td>\n",
       "      <td>1</td>\n",
       "      <td>0.0</td>\n",
       "      <td>0.0</td>\n",
       "    </tr>\n",
       "    <tr>\n",
       "      <th>22</th>\n",
       "      <td>1173</td>\n",
       "      <td>26984945254</td>\n",
       "      <td>1</td>\n",
       "      <td>923972</td>\n",
       "      <td>1</td>\n",
       "      <td>0.67</td>\n",
       "      <td>412</td>\n",
       "      <td>0.00</td>\n",
       "      <td>2042</td>\n",
       "      <td>1</td>\n",
       "      <td>0.0</td>\n",
       "      <td>0.0</td>\n",
       "    </tr>\n",
       "    <tr>\n",
       "      <th>23</th>\n",
       "      <td>1173</td>\n",
       "      <td>26984945254</td>\n",
       "      <td>1</td>\n",
       "      <td>1131351</td>\n",
       "      <td>1</td>\n",
       "      <td>0.88</td>\n",
       "      <td>412</td>\n",
       "      <td>0.00</td>\n",
       "      <td>2042</td>\n",
       "      <td>1</td>\n",
       "      <td>0.0</td>\n",
       "      <td>0.0</td>\n",
       "    </tr>\n",
       "    <tr>\n",
       "      <th>24</th>\n",
       "      <td>98</td>\n",
       "      <td>26984951769</td>\n",
       "      <td>1</td>\n",
       "      <td>878302</td>\n",
       "      <td>3</td>\n",
       "      <td>0.90</td>\n",
       "      <td>337</td>\n",
       "      <td>0.00</td>\n",
       "      <td>1937</td>\n",
       "      <td>1</td>\n",
       "      <td>0.0</td>\n",
       "      <td>0.0</td>\n",
       "    </tr>\n",
       "    <tr>\n",
       "      <th>26</th>\n",
       "      <td>98</td>\n",
       "      <td>26984951769</td>\n",
       "      <td>1</td>\n",
       "      <td>985911</td>\n",
       "      <td>1</td>\n",
       "      <td>1.25</td>\n",
       "      <td>337</td>\n",
       "      <td>-0.34</td>\n",
       "      <td>1937</td>\n",
       "      <td>1</td>\n",
       "      <td>0.0</td>\n",
       "      <td>0.0</td>\n",
       "    </tr>\n",
       "    <tr>\n",
       "      <th>27</th>\n",
       "      <td>98</td>\n",
       "      <td>26984951769</td>\n",
       "      <td>1</td>\n",
       "      <td>1082185</td>\n",
       "      <td>1</td>\n",
       "      <td>0.39</td>\n",
       "      <td>337</td>\n",
       "      <td>0.00</td>\n",
       "      <td>1937</td>\n",
       "      <td>1</td>\n",
       "      <td>0.0</td>\n",
       "      <td>0.0</td>\n",
       "    </tr>\n",
       "    <tr>\n",
       "      <th>31</th>\n",
       "      <td>1172</td>\n",
       "      <td>26985025264</td>\n",
       "      <td>1</td>\n",
       "      <td>930917</td>\n",
       "      <td>2</td>\n",
       "      <td>2.00</td>\n",
       "      <td>396</td>\n",
       "      <td>-0.78</td>\n",
       "      <td>946</td>\n",
       "      <td>1</td>\n",
       "      <td>0.0</td>\n",
       "      <td>0.0</td>\n",
       "    </tr>\n",
       "  </tbody>\n",
       "</table>\n",
       "</div>"
      ],
      "text/plain": [
       "    user_id    basket_id  day  item_id  quantity  sales_value  store_id  \\\n",
       "0      2375  26984851472    1  1004906         1         1.39       364   \n",
       "1      2375  26984851472    1  1033142         1         0.82       364   \n",
       "2      2375  26984851472    1  1036325         1         0.99       364   \n",
       "3      2375  26984851472    1  1082185         1         1.21       364   \n",
       "4      2375  26984851472    1  8160430         1         1.50       364   \n",
       "5      2375  26984851516    1   826249         2         1.98       364   \n",
       "7      2375  26984851516    1  1085983         1         2.99       364   \n",
       "11     1364  26984896261    1   842930         1         2.19     31742   \n",
       "15     1364  26984896261    1   981760         1         0.60     31742   \n",
       "16     1130  26984905972    1   833715         2         0.34     31642   \n",
       "17     1130  26984905972    1   866950         2         0.34     31642   \n",
       "18     1130  26984905972    1  1022843         2         0.34     31642   \n",
       "19     1130  26984905972    1  1048462         1         1.19     31642   \n",
       "20     1130  26984905972    1  1071333         2         0.34     31642   \n",
       "22     1173  26984945254    1   923972         1         0.67       412   \n",
       "23     1173  26984945254    1  1131351         1         0.88       412   \n",
       "24       98  26984951769    1   878302         3         0.90       337   \n",
       "26       98  26984951769    1   985911         1         1.25       337   \n",
       "27       98  26984951769    1  1082185         1         0.39       337   \n",
       "31     1172  26985025264    1   930917         2         2.00       396   \n",
       "\n",
       "    retail_disc  trans_time  week_no  coupon_disc  coupon_match_disc  \n",
       "0         -0.60        1631        1          0.0                0.0  \n",
       "1          0.00        1631        1          0.0                0.0  \n",
       "2         -0.30        1631        1          0.0                0.0  \n",
       "3          0.00        1631        1          0.0                0.0  \n",
       "4         -0.39        1631        1          0.0                0.0  \n",
       "5         -0.60        1642        1          0.0                0.0  \n",
       "7         -0.40        1642        1          0.0                0.0  \n",
       "11         0.00        1520        1          0.0                0.0  \n",
       "15        -0.79        1520        1          0.0                0.0  \n",
       "16        -0.32        1340        1          0.0                0.0  \n",
       "17        -0.32        1340        1          0.0                0.0  \n",
       "18        -0.32        1340        1          0.0                0.0  \n",
       "19        -0.80        1340        1          0.0                0.0  \n",
       "20        -0.32        1340        1          0.0                0.0  \n",
       "22         0.00        2042        1          0.0                0.0  \n",
       "23         0.00        2042        1          0.0                0.0  \n",
       "24         0.00        1937        1          0.0                0.0  \n",
       "26        -0.34        1937        1          0.0                0.0  \n",
       "27         0.00        1937        1          0.0                0.0  \n",
       "31        -0.78         946        1          0.0                0.0  "
      ]
     },
     "execution_count": 9,
     "metadata": {},
     "output_type": "execute_result"
    }
   ],
   "source": [
    "data_train_top5000.head(20)"
   ]
  },
  {
   "cell_type": "code",
   "execution_count": 10,
   "metadata": {},
   "outputs": [],
   "source": [
    "def random_recommendation(items, n=5):\n",
    "    \"\"\"Случайные рекоммендации\"\"\"\n",
    "    \n",
    "    items = np.array(items)\n",
    "    recs = np.random.choice(items, size=n, replace=False)\n",
    "    \n",
    "    return recs.tolist()"
   ]
  },
  {
   "cell_type": "code",
   "execution_count": 11,
   "metadata": {},
   "outputs": [
    {
     "name": "stdout",
     "output_type": "stream",
     "text": [
      "CPU times: user 214 ms, sys: 391 µs, total: 214 ms\n",
      "Wall time: 212 ms\n"
     ]
    },
    {
     "data": {
      "text/html": [
       "<div>\n",
       "<style scoped>\n",
       "    .dataframe tbody tr th:only-of-type {\n",
       "        vertical-align: middle;\n",
       "    }\n",
       "\n",
       "    .dataframe tbody tr th {\n",
       "        vertical-align: top;\n",
       "    }\n",
       "\n",
       "    .dataframe thead th {\n",
       "        text-align: right;\n",
       "    }\n",
       "</style>\n",
       "<table border=\"1\" class=\"dataframe\">\n",
       "  <thead>\n",
       "    <tr style=\"text-align: right;\">\n",
       "      <th></th>\n",
       "      <th>user_id</th>\n",
       "      <th>actual</th>\n",
       "      <th>weighted log rand rec</th>\n",
       "      <th>random_recommendation_top5000</th>\n",
       "    </tr>\n",
       "  </thead>\n",
       "  <tbody>\n",
       "    <tr>\n",
       "      <th>0</th>\n",
       "      <td>1</td>\n",
       "      <td>[821867, 834484, 856942, 865456, 889248, 90795...</td>\n",
       "      <td>[1214177, 935833, 53337, 1227043, 477610]</td>\n",
       "      <td>[1052335, 9296847, 9677949, 917742, 7440663]</td>\n",
       "    </tr>\n",
       "    <tr>\n",
       "      <th>1</th>\n",
       "      <td>3</td>\n",
       "      <td>[835476, 851057, 872021, 878302, 879948, 90963...</td>\n",
       "      <td>[969727, 846176, 8158410, 13008098, 1917729]</td>\n",
       "      <td>[1098910, 868683, 886787, 1093730, 993685]</td>\n",
       "    </tr>\n",
       "    <tr>\n",
       "      <th>2</th>\n",
       "      <td>6</td>\n",
       "      <td>[920308, 926804, 946489, 1006718, 1017061, 107...</td>\n",
       "      <td>[6442764, 12731620, 1148215, 1079563, 13910853]</td>\n",
       "      <td>[14050461, 6424472, 5571248, 1075786, 921614]</td>\n",
       "    </tr>\n",
       "    <tr>\n",
       "      <th>3</th>\n",
       "      <td>7</td>\n",
       "      <td>[840386, 889774, 898068, 909714, 929067, 95347...</td>\n",
       "      <td>[13776390, 6772967, 2058885, 881529, 5716558]</td>\n",
       "      <td>[1101449, 877935, 1112238, 6632283, 967461]</td>\n",
       "    </tr>\n",
       "    <tr>\n",
       "      <th>4</th>\n",
       "      <td>8</td>\n",
       "      <td>[835098, 872137, 910439, 924610, 992977, 10412...</td>\n",
       "      <td>[883474, 7406726, 1029549, 6633344, 2926952]</td>\n",
       "      <td>[887661, 898869, 1055412, 1098066, 907014]</td>\n",
       "    </tr>\n",
       "    <tr>\n",
       "      <th>5</th>\n",
       "      <td>9</td>\n",
       "      <td>[864335, 990865, 1029743, 9297474, 10457112, 8...</td>\n",
       "      <td>[6904451, 1090286, 1005172, 10456500, 7166862]</td>\n",
       "      <td>[9677236, 838097, 5566235, 904574, 904422]</td>\n",
       "    </tr>\n",
       "    <tr>\n",
       "      <th>6</th>\n",
       "      <td>13</td>\n",
       "      <td>[6534178, 1104146, 829197, 840361, 862070, 884...</td>\n",
       "      <td>[1139036, 1028438, 5589557, 852773, 889994]</td>\n",
       "      <td>[996009, 831628, 12781986, 1089074, 12987975]</td>\n",
       "    </tr>\n",
       "    <tr>\n",
       "      <th>7</th>\n",
       "      <td>14</td>\n",
       "      <td>[840601, 867293, 933067, 951590, 952408, 96569...</td>\n",
       "      <td>[914561, 9928380, 2763199, 13159598, 1593899]</td>\n",
       "      <td>[12425418, 964327, 939546, 922561, 920308]</td>\n",
       "    </tr>\n",
       "    <tr>\n",
       "      <th>8</th>\n",
       "      <td>15</td>\n",
       "      <td>[910439, 1082185, 959076, 1023958, 1082310, 13...</td>\n",
       "      <td>[6391403, 5588798, 870791, 932135, 859425]</td>\n",
       "      <td>[1119405, 993638, 912280, 9707240, 6463742]</td>\n",
       "    </tr>\n",
       "    <tr>\n",
       "      <th>9</th>\n",
       "      <td>16</td>\n",
       "      <td>[1062973, 1082185, 13007710]</td>\n",
       "      <td>[1027099, 16223139, 15596011, 934618, 1033562]</td>\n",
       "      <td>[855488, 1023466, 16809471, 1046243, 986947]</td>\n",
       "    </tr>\n",
       "  </tbody>\n",
       "</table>\n",
       "</div>"
      ],
      "text/plain": [
       "   user_id                                             actual  \\\n",
       "0        1  [821867, 834484, 856942, 865456, 889248, 90795...   \n",
       "1        3  [835476, 851057, 872021, 878302, 879948, 90963...   \n",
       "2        6  [920308, 926804, 946489, 1006718, 1017061, 107...   \n",
       "3        7  [840386, 889774, 898068, 909714, 929067, 95347...   \n",
       "4        8  [835098, 872137, 910439, 924610, 992977, 10412...   \n",
       "5        9  [864335, 990865, 1029743, 9297474, 10457112, 8...   \n",
       "6       13  [6534178, 1104146, 829197, 840361, 862070, 884...   \n",
       "7       14  [840601, 867293, 933067, 951590, 952408, 96569...   \n",
       "8       15  [910439, 1082185, 959076, 1023958, 1082310, 13...   \n",
       "9       16                       [1062973, 1082185, 13007710]   \n",
       "\n",
       "                             weighted log rand rec  \\\n",
       "0        [1214177, 935833, 53337, 1227043, 477610]   \n",
       "1     [969727, 846176, 8158410, 13008098, 1917729]   \n",
       "2  [6442764, 12731620, 1148215, 1079563, 13910853]   \n",
       "3    [13776390, 6772967, 2058885, 881529, 5716558]   \n",
       "4     [883474, 7406726, 1029549, 6633344, 2926952]   \n",
       "5   [6904451, 1090286, 1005172, 10456500, 7166862]   \n",
       "6      [1139036, 1028438, 5589557, 852773, 889994]   \n",
       "7    [914561, 9928380, 2763199, 13159598, 1593899]   \n",
       "8       [6391403, 5588798, 870791, 932135, 859425]   \n",
       "9   [1027099, 16223139, 15596011, 934618, 1033562]   \n",
       "\n",
       "                   random_recommendation_top5000  \n",
       "0   [1052335, 9296847, 9677949, 917742, 7440663]  \n",
       "1     [1098910, 868683, 886787, 1093730, 993685]  \n",
       "2  [14050461, 6424472, 5571248, 1075786, 921614]  \n",
       "3    [1101449, 877935, 1112238, 6632283, 967461]  \n",
       "4     [887661, 898869, 1055412, 1098066, 907014]  \n",
       "5     [9677236, 838097, 5566235, 904574, 904422]  \n",
       "6  [996009, 831628, 12781986, 1089074, 12987975]  \n",
       "7     [12425418, 964327, 939546, 922561, 920308]  \n",
       "8    [1119405, 993638, 912280, 9707240, 6463742]  \n",
       "9   [855488, 1023466, 16809471, 1046243, 986947]  "
      ]
     },
     "execution_count": 11,
     "metadata": {},
     "output_type": "execute_result"
    }
   ],
   "source": [
    "%%time\n",
    "\n",
    "items = data_train_top5000.item_id.unique()\n",
    "\n",
    "result['random_recommendation_top5000'] = result['user_id'].apply(lambda x: random_recommendation(items, n=5))\n",
    "\n",
    "result.head(10)"
   ]
  },
  {
   "cell_type": "code",
   "execution_count": 12,
   "metadata": {},
   "outputs": [],
   "source": [
    "def popularity_recommendation(data, n=5):\n",
    "    \"\"\"Топ-n популярных товаров\"\"\"\n",
    "    \n",
    "    popular = data.groupby('item_id')['sales_value'].sum().reset_index()\n",
    "    popular.sort_values('sales_value', ascending=False, inplace=True)\n",
    "    \n",
    "    recs = popular.head(n).item_id\n",
    "    \n",
    "    return recs.tolist()"
   ]
  },
  {
   "cell_type": "code",
   "execution_count": 13,
   "metadata": {},
   "outputs": [
    {
     "name": "stdout",
     "output_type": "stream",
     "text": [
      "CPU times: user 34.2 ms, sys: 0 ns, total: 34.2 ms\n",
      "Wall time: 33 ms\n"
     ]
    },
    {
     "data": {
      "text/html": [
       "<div>\n",
       "<style scoped>\n",
       "    .dataframe tbody tr th:only-of-type {\n",
       "        vertical-align: middle;\n",
       "    }\n",
       "\n",
       "    .dataframe tbody tr th {\n",
       "        vertical-align: top;\n",
       "    }\n",
       "\n",
       "    .dataframe thead th {\n",
       "        text-align: right;\n",
       "    }\n",
       "</style>\n",
       "<table border=\"1\" class=\"dataframe\">\n",
       "  <thead>\n",
       "    <tr style=\"text-align: right;\">\n",
       "      <th></th>\n",
       "      <th>user_id</th>\n",
       "      <th>actual</th>\n",
       "      <th>weighted log rand rec</th>\n",
       "      <th>random_recommendation_top5000</th>\n",
       "      <th>popular_recommendation_top5000</th>\n",
       "    </tr>\n",
       "  </thead>\n",
       "  <tbody>\n",
       "    <tr>\n",
       "      <th>0</th>\n",
       "      <td>1</td>\n",
       "      <td>[821867, 834484, 856942, 865456, 889248, 90795...</td>\n",
       "      <td>[1214177, 935833, 53337, 1227043, 477610]</td>\n",
       "      <td>[1052335, 9296847, 9677949, 917742, 7440663]</td>\n",
       "      <td>[6534178, 6533889, 1029743, 6534166, 1082185]</td>\n",
       "    </tr>\n",
       "    <tr>\n",
       "      <th>1</th>\n",
       "      <td>3</td>\n",
       "      <td>[835476, 851057, 872021, 878302, 879948, 90963...</td>\n",
       "      <td>[969727, 846176, 8158410, 13008098, 1917729]</td>\n",
       "      <td>[1098910, 868683, 886787, 1093730, 993685]</td>\n",
       "      <td>[6534178, 6533889, 1029743, 6534166, 1082185]</td>\n",
       "    </tr>\n",
       "  </tbody>\n",
       "</table>\n",
       "</div>"
      ],
      "text/plain": [
       "   user_id                                             actual  \\\n",
       "0        1  [821867, 834484, 856942, 865456, 889248, 90795...   \n",
       "1        3  [835476, 851057, 872021, 878302, 879948, 90963...   \n",
       "\n",
       "                          weighted log rand rec  \\\n",
       "0     [1214177, 935833, 53337, 1227043, 477610]   \n",
       "1  [969727, 846176, 8158410, 13008098, 1917729]   \n",
       "\n",
       "                  random_recommendation_top5000  \\\n",
       "0  [1052335, 9296847, 9677949, 917742, 7440663]   \n",
       "1    [1098910, 868683, 886787, 1093730, 993685]   \n",
       "\n",
       "                  popular_recommendation_top5000  \n",
       "0  [6534178, 6533889, 1029743, 6534166, 1082185]  \n",
       "1  [6534178, 6533889, 1029743, 6534166, 1082185]  "
      ]
     },
     "execution_count": 13,
     "metadata": {},
     "output_type": "execute_result"
    }
   ],
   "source": [
    "%%time\n",
    "\n",
    "popular_recs = popularity_recommendation(data_train_top5000, n=5)\n",
    "\n",
    "result['popular_recommendation_top5000'] = result['user_id'].apply(lambda x: popular_recs)\n",
    "result.head(2)"
   ]
  },
  {
   "cell_type": "code",
   "execution_count": 14,
   "metadata": {},
   "outputs": [],
   "source": [
    "def weighted_random_recommendation(items_weights, n=5):\n",
    "    \"\"\"Случайные рекоммендации\n",
    "    \n",
    "    Input\n",
    "    -----\n",
    "    items_weights: pd.DataFrame\n",
    "        Датафрейм со столбцами item_id, weight. Сумма weight по всем товарам = 1\n",
    "    \"\"\"\n",
    "    recs = np.random.choice(items_weights.item_id, size=n, replace=False, p=items_weights.weight)\n",
    "    # Подсказка: необходимо модифицировать функцию random_recommendation()\n",
    "    # your_code\n",
    "    \n",
    "    return recs.tolist()"
   ]
  },
  {
   "cell_type": "code",
   "execution_count": 15,
   "metadata": {},
   "outputs": [
    {
     "data": {
      "text/html": [
       "<div>\n",
       "<style scoped>\n",
       "    .dataframe tbody tr th:only-of-type {\n",
       "        vertical-align: middle;\n",
       "    }\n",
       "\n",
       "    .dataframe tbody tr th {\n",
       "        vertical-align: top;\n",
       "    }\n",
       "\n",
       "    .dataframe thead th {\n",
       "        text-align: right;\n",
       "    }\n",
       "</style>\n",
       "<table border=\"1\" class=\"dataframe\">\n",
       "  <thead>\n",
       "    <tr style=\"text-align: right;\">\n",
       "      <th></th>\n",
       "      <th>user_id</th>\n",
       "      <th>actual</th>\n",
       "      <th>weighted log rand rec</th>\n",
       "      <th>random_recommendation_top5000</th>\n",
       "      <th>popular_recommendation_top5000</th>\n",
       "      <th>weighted_random_top5000</th>\n",
       "    </tr>\n",
       "  </thead>\n",
       "  <tbody>\n",
       "    <tr>\n",
       "      <th>0</th>\n",
       "      <td>1</td>\n",
       "      <td>[821867, 834484, 856942, 865456, 889248, 90795...</td>\n",
       "      <td>[1214177, 935833, 53337, 1227043, 477610]</td>\n",
       "      <td>[1052335, 9296847, 9677949, 917742, 7440663]</td>\n",
       "      <td>[6534178, 6533889, 1029743, 6534166, 1082185]</td>\n",
       "      <td>[6442594, 825249, 1080414, 1009770, 1094371]</td>\n",
       "    </tr>\n",
       "    <tr>\n",
       "      <th>1</th>\n",
       "      <td>3</td>\n",
       "      <td>[835476, 851057, 872021, 878302, 879948, 90963...</td>\n",
       "      <td>[969727, 846176, 8158410, 13008098, 1917729]</td>\n",
       "      <td>[1098910, 868683, 886787, 1093730, 993685]</td>\n",
       "      <td>[6534178, 6533889, 1029743, 6534166, 1082185]</td>\n",
       "      <td>[7410013, 1018007, 834491, 1139651, 950098]</td>\n",
       "    </tr>\n",
       "  </tbody>\n",
       "</table>\n",
       "</div>"
      ],
      "text/plain": [
       "   user_id                                             actual  \\\n",
       "0        1  [821867, 834484, 856942, 865456, 889248, 90795...   \n",
       "1        3  [835476, 851057, 872021, 878302, 879948, 90963...   \n",
       "\n",
       "                          weighted log rand rec  \\\n",
       "0     [1214177, 935833, 53337, 1227043, 477610]   \n",
       "1  [969727, 846176, 8158410, 13008098, 1917729]   \n",
       "\n",
       "                  random_recommendation_top5000  \\\n",
       "0  [1052335, 9296847, 9677949, 917742, 7440663]   \n",
       "1    [1098910, 868683, 886787, 1093730, 993685]   \n",
       "\n",
       "                  popular_recommendation_top5000  \\\n",
       "0  [6534178, 6533889, 1029743, 6534166, 1082185]   \n",
       "1  [6534178, 6533889, 1029743, 6534166, 1082185]   \n",
       "\n",
       "                        weighted_random_top5000  \n",
       "0  [6442594, 825249, 1080414, 1009770, 1094371]  \n",
       "1   [7410013, 1018007, 834491, 1139651, 950098]  "
      ]
     },
     "execution_count": 15,
     "metadata": {},
     "output_type": "execute_result"
    }
   ],
   "source": [
    "items_weights = data_train_top5000.groupby('item_id')['sales_value'].sum().reset_index().rename(columns={'sales_value': 'weight'})\n",
    "items_weights.loc[items_weights['weight'] < 1, 'weight'] = 1\n",
    "items_weights['weight'] = np.log(items_weights['weight'])\n",
    "items_weights['weight'] = items_weights['weight'] / items_weights['weight'].sum()\n",
    "\n",
    "result['weighted_random_top5000'] = result['user_id'].apply(lambda x: weighted_random_recommendation(items_weights, n=5))\n",
    "\n",
    "result.head(2)\n"
   ]
  },
  {
   "cell_type": "code",
   "execution_count": 19,
   "metadata": {},
   "outputs": [
    {
     "name": "stdout",
     "output_type": "stream",
     "text": [
      "1.0:actual\n",
      "0.0006:weighted log rand rec\n",
      "0.0062:random_recommendation_top5000\n",
      "0.1552:popular_recommendation_top5000\n",
      "0.0077:weighted_random_top5000\n"
     ]
    }
   ],
   "source": [
    "for name_col in result.columns[1:]:\n",
    "    print(f\"{round(result.apply(lambda row: precision_at_k(row[name_col], row['actual']), axis=1).mean(),4)}:{name_col}\")\n"
   ]
  },
  {
   "cell_type": "markdown",
   "metadata": {},
   "source": [
    "#### Пробуем улучшить разные варианты ItemItemRecommender"
   ]
  },
  {
   "cell_type": "code",
   "execution_count": 20,
   "metadata": {},
   "outputs": [],
   "source": [
    "user_item_matrix = pd.pivot_table(data_train, \n",
    "                                  index='user_id', columns='item_id', \n",
    "                                  values='quantity',\n",
    "                                  aggfunc='count', \n",
    "                                  fill_value=0\n",
    "                                 )\n",
    "\n",
    "user_item_matrix[user_item_matrix > 0] = 1 # так как в итоге хотим предсказать \n",
    "user_item_matrix = user_item_matrix.astype(float) # необходимый тип матрицы для implicit\n",
    "\n",
    "# переведем в формат sparse matrix\n",
    "sparse_user_item = csr_matrix(user_item_matrix).tocsr()"
   ]
  },
  {
   "cell_type": "code",
   "execution_count": 21,
   "metadata": {},
   "outputs": [],
   "source": [
    "userids = user_item_matrix.index.values\n",
    "itemids = user_item_matrix.columns.values\n",
    "\n",
    "matrix_userids = np.arange(len(userids))\n",
    "matrix_itemids = np.arange(len(itemids))\n",
    "\n",
    "id_to_itemid = dict(zip(matrix_itemids, itemids))\n",
    "id_to_userid = dict(zip(matrix_userids, userids))\n",
    "\n",
    "itemid_to_id = dict(zip(itemids, matrix_itemids))\n",
    "userid_to_id = dict(zip(userids, matrix_userids))"
   ]
  },
  {
   "cell_type": "code",
   "execution_count": 22,
   "metadata": {},
   "outputs": [
    {
     "data": {
      "application/vnd.jupyter.widget-view+json": {
       "model_id": "55c6af9705384201af48fd0892fce5e9",
       "version_major": 2,
       "version_minor": 0
      },
      "text/plain": [
       "HBox(children=(HTML(value=''), FloatProgress(value=0.0, max=5001.0), HTML(value='')))"
      ]
     },
     "metadata": {},
     "output_type": "display_data"
    },
    {
     "name": "stdout",
     "output_type": "stream",
     "text": [
      "\n"
     ]
    },
    {
     "name": "stderr",
     "output_type": "stream",
     "text": [
      "<ipython-input-22-ebea88bafcfa>:11: SettingWithCopyWarning: \n",
      "A value is trying to be set on a copy of a slice from a DataFrame.\n",
      "Try using .loc[row_indexer,col_indexer] = value instead\n",
      "\n",
      "See the caveats in the documentation: https://pandas.pydata.org/pandas-docs/stable/user_guide/indexing.html#returning-a-view-versus-a-copy\n",
      "  tmp_df['itemitem'] = result['user_id'].apply(lambda x: [id_to_itemid[rec[0]] for rec in\n"
     ]
    },
    {
     "data": {
      "application/vnd.jupyter.widget-view+json": {
       "model_id": "f4ffa059fa974d12882d1e2a2110ac57",
       "version_major": 2,
       "version_minor": 0
      },
      "text/plain": [
       "HBox(children=(HTML(value=''), FloatProgress(value=0.0, max=5001.0), HTML(value='')))"
      ]
     },
     "metadata": {},
     "output_type": "display_data"
    },
    {
     "name": "stdout",
     "output_type": "stream",
     "text": [
      "\n"
     ]
    },
    {
     "data": {
      "application/vnd.jupyter.widget-view+json": {
       "model_id": "61054fd21bdb4171a8d5b5bbbb4b6b2e",
       "version_major": 2,
       "version_minor": 0
      },
      "text/plain": [
       "HBox(children=(HTML(value=''), FloatProgress(value=0.0, max=5001.0), HTML(value='')))"
      ]
     },
     "metadata": {},
     "output_type": "display_data"
    },
    {
     "name": "stdout",
     "output_type": "stream",
     "text": [
      "\n"
     ]
    },
    {
     "data": {
      "application/vnd.jupyter.widget-view+json": {
       "model_id": "f49d7b363dce425690f7bd4f98030048",
       "version_major": 2,
       "version_minor": 0
      },
      "text/plain": [
       "HBox(children=(HTML(value=''), FloatProgress(value=0.0, max=5001.0), HTML(value='')))"
      ]
     },
     "metadata": {},
     "output_type": "display_data"
    },
    {
     "name": "stdout",
     "output_type": "stream",
     "text": [
      "\n"
     ]
    },
    {
     "data": {
      "application/vnd.jupyter.widget-view+json": {
       "model_id": "584d81f378f34a51875e75a1421924d8",
       "version_major": 2,
       "version_minor": 0
      },
      "text/plain": [
       "HBox(children=(HTML(value=''), FloatProgress(value=0.0, max=5001.0), HTML(value='')))"
      ]
     },
     "metadata": {},
     "output_type": "display_data"
    },
    {
     "name": "stdout",
     "output_type": "stream",
     "text": [
      "\n"
     ]
    },
    {
     "data": {
      "application/vnd.jupyter.widget-view+json": {
       "model_id": "f88de47a7c5f45fda33ffdd05c8a6aec",
       "version_major": 2,
       "version_minor": 0
      },
      "text/plain": [
       "HBox(children=(HTML(value=''), FloatProgress(value=0.0, max=5001.0), HTML(value='')))"
      ]
     },
     "metadata": {},
     "output_type": "display_data"
    },
    {
     "name": "stdout",
     "output_type": "stream",
     "text": [
      "\n"
     ]
    },
    {
     "data": {
      "application/vnd.jupyter.widget-view+json": {
       "model_id": "c8a335edb87b4e239b28539f65860e9b",
       "version_major": 2,
       "version_minor": 0
      },
      "text/plain": [
       "HBox(children=(HTML(value=''), FloatProgress(value=0.0, max=5001.0), HTML(value='')))"
      ]
     },
     "metadata": {},
     "output_type": "display_data"
    },
    {
     "name": "stdout",
     "output_type": "stream",
     "text": [
      "\n"
     ]
    },
    {
     "data": {
      "application/vnd.jupyter.widget-view+json": {
       "model_id": "f52f7d1c337049338ae0ae5c80c90861",
       "version_major": 2,
       "version_minor": 0
      },
      "text/plain": [
       "HBox(children=(HTML(value=''), FloatProgress(value=0.0, max=5001.0), HTML(value='')))"
      ]
     },
     "metadata": {},
     "output_type": "display_data"
    },
    {
     "name": "stdout",
     "output_type": "stream",
     "text": [
      "\n"
     ]
    },
    {
     "data": {
      "application/vnd.jupyter.widget-view+json": {
       "model_id": "8da0e001cb9c419da47e49e13dab93bd",
       "version_major": 2,
       "version_minor": 0
      },
      "text/plain": [
       "HBox(children=(HTML(value=''), FloatProgress(value=0.0, max=5001.0), HTML(value='')))"
      ]
     },
     "metadata": {},
     "output_type": "display_data"
    },
    {
     "name": "stdout",
     "output_type": "stream",
     "text": [
      "\n"
     ]
    },
    {
     "data": {
      "application/vnd.jupyter.widget-view+json": {
       "model_id": "5f15ba9b2c3046fbbbf6399a22ea3cd0",
       "version_major": 2,
       "version_minor": 0
      },
      "text/plain": [
       "HBox(children=(HTML(value=''), FloatProgress(value=0.0, max=5001.0), HTML(value='')))"
      ]
     },
     "metadata": {},
     "output_type": "display_data"
    },
    {
     "name": "stdout",
     "output_type": "stream",
     "text": [
      "\n",
      "precision_at_k for K=1: 0.19229513548808072\n",
      "precision_at_k for K=2: 0.1919849820437451\n",
      "precision_at_k for K=3: 0.1860920666013684\n",
      "precision_at_k for K=4: 0.14485798237022346\n",
      "precision_at_k for K=5: 0.13682664054848048\n",
      "precision_at_k for K=6: 0.14211557296767716\n",
      "precision_at_k for K=7: 0.14495592556317166\n",
      "precision_at_k for K=8: 0.14720861900097773\n",
      "precision_at_k for K=9: 0.14848188050930292\n",
      "precision_at_k for K=10: 0.15093046033300497\n"
     ]
    }
   ],
   "source": [
    "metrics_list = []\n",
    "for i in range(10):\n",
    "    model = ItemItemRecommender(K=i+1, num_threads=4) # K - кол-во билжайших соседей\n",
    "\n",
    "\n",
    "    model.fit(csr_matrix(user_item_matrix).T.tocsr(),  # На вход item-user matrix\n",
    "              show_progress=True)\n",
    "    \n",
    "    tmp_df = result[['actual']]\n",
    "\n",
    "    tmp_df['itemitem'] = result['user_id'].apply(lambda x: [id_to_itemid[rec[0]] for rec in \n",
    "                                        model.recommend(userid=userid_to_id[x], \n",
    "                                        user_items=sparse_user_item,   # на вход user-item matrix\n",
    "                                        N=5, \n",
    "                                        filter_already_liked_items=False, \n",
    "                                        filter_items=None, \n",
    "                                        recalculate_user=True)])\n",
    "    \n",
    "    metrics_list.append(tmp_df.apply(lambda row: precision_at_k(row['itemitem'], row['actual']), axis=1).mean())\n",
    "\n",
    "for idx, itm in enumerate(metrics_list):\n",
    "    print(f'precision_at_k for K={idx+1}: {itm}')"
   ]
  },
  {
   "cell_type": "markdown",
   "metadata": {},
   "source": [
    "лучшая метрика достигается при K=2"
   ]
  },
  {
   "cell_type": "code",
   "execution_count": null,
   "metadata": {},
   "outputs": [],
   "source": []
  }
 ],
 "metadata": {
  "colab": {
   "name": "hw_webinar_2.ipynb",
   "provenance": []
  },
  "kernelspec": {
   "display_name": "Python 3",
   "language": "python",
   "name": "python3"
  },
  "language_info": {
   "codemirror_mode": {
    "name": "ipython",
    "version": 3
   },
   "file_extension": ".py",
   "mimetype": "text/x-python",
   "name": "python",
   "nbconvert_exporter": "python",
   "pygments_lexer": "ipython3",
   "version": "3.8.5"
  }
 },
 "nbformat": 4,
 "nbformat_minor": 1
}
