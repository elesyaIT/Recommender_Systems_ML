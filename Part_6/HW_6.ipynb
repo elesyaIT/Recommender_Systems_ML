{
 "cells": [
  {
   "cell_type": "markdown",
   "metadata": {},
   "source": [
    "# Двухуровневые модели рекомендаций\n",
    "\n",
    "**Задание 1.**\n",
    "\n",
    "A) Попробуйте различные варианты генерации кандидатов. Какие из них дают наибольший recall@k ?\n",
    "- Пока пробуем отобрать 50 кандидатов (k=50)\n",
    "- Качество измеряем на data_val_matcher: следующие 6 недель после трейна\n",
    "\n",
    "Дают ли own recommendtions + top-popular лучший recall?  \n",
    "\n",
    "B)* Как зависит recall@k от k? Постройте для одной схемы генерации кандидатов эту зависимость для k = {20, 50, 100, 200, 500}  \n",
    "C)* Исходя из прошлого вопроса, как вы думаете, какое значение k является наиболее разумным?\n",
    "\n",
    "**Задание 2.**\n",
    "\n",
    "Обучите модель 2-ого уровня, при этом:\n",
    "\n",
    "- Добавьте минимум по 2 фичи для юзера, товара и пары юзер-товар\n",
    "\n",
    "- Измерьте отдельно precision@5 модели 1-ого уровня и двухуровневой модели на data_val_ranker\n",
    "\n",
    "- Вырос ли precision@5 при использовании двухуровневой модели?"
   ]
  },
  {
   "cell_type": "code",
   "execution_count": 1,
   "metadata": {},
   "outputs": [],
   "source": [
    "import pandas as pd\n",
    "import numpy as np\n",
    "import matplotlib.pyplot as plt\n",
    "%matplotlib inline\n",
    "\n",
    "# Для работы с матрицами\n",
    "from scipy.sparse import csr_matrix\n",
    "\n",
    "# Матричная факторизация\n",
    "from implicit import als\n",
    "\n",
    "# Модель второго уровня\n",
    "from lightgbm import LGBMClassifier\n",
    "\n",
    "import os, sys\n",
    "module_path = os.path.abspath(os.path.join(os.pardir))\n",
    "if module_path not in sys.path:\n",
    "    sys.path.append(module_path)\n",
    "\n",
    "# Написанные нами функции\n",
    "from metrics import precision_at_k, recall_at_k\n",
    "from utils import prefilter_items\n",
    "from recommenders import MainRecommender"
   ]
  },
  {
   "cell_type": "code",
   "execution_count": 2,
   "metadata": {},
   "outputs": [],
   "source": [
    "data = pd.read_csv('./data/retail_train.csv')\n",
    "item_features = pd.read_csv('./data/product.csv')\n",
    "user_features = pd.read_csv('./data/hh_demographic.csv')\n",
    "\n",
    "ITEM_COL = 'item_id'\n",
    "USER_COL = 'user_id'\n",
    "\n",
    "# column processing\n",
    "item_features.columns = [col.lower() for col in item_features.columns]\n",
    "user_features.columns = [col.lower() for col in user_features.columns]\n",
    "\n",
    "item_features.rename(columns={'product_id': ITEM_COL}, inplace=True)\n",
    "user_features.rename(columns={'household_key': USER_COL }, inplace=True)\n",
    "\n",
    "# Важна схема обучения и валидации!\n",
    "# -- давние покупки -- | -- 6 недель -- | -- 3 недель -- \n",
    "# подобрать размер 2-ого датасета (6 недель) --> learning curve (зависимость метрики recall@k от размера датасета)\n",
    "\n",
    "VAL_MATCHER_WEEKS = 6\n",
    "VAL_RANKER_WEEKS = 3\n",
    "\n",
    "# берем данные для тренировки matching модели\n",
    "data_train_matcher = data[data['week_no'] < data['week_no'].max() - (VAL_MATCHER_WEEKS + VAL_RANKER_WEEKS)]\n",
    "\n",
    "# берем данные для валидации matching модели\n",
    "data_val_matcher = data[(data['week_no'] >= data['week_no'].max() - (VAL_MATCHER_WEEKS + VAL_RANKER_WEEKS)) &\n",
    "                      (data['week_no'] < data['week_no'].max() - (VAL_RANKER_WEEKS))]\n",
    "\n",
    "\n",
    "# берем данные для тренировки ranking модели\n",
    "data_train_ranker = data_val_matcher.copy()  # Для наглядности. Далее мы добавим изменения, и они будут отличаться\n",
    "\n",
    "# берем данные для теста ranking, matching модели\n",
    "data_val_ranker = data[data['week_no'] >= data['week_no'].max() - VAL_RANKER_WEEKS]"
   ]
  },
  {
   "cell_type": "code",
   "execution_count": 3,
   "metadata": {},
   "outputs": [],
   "source": [
    "def print_stats_data(df_data, name_df):\n",
    "    print(name_df)\n",
    "    print(f\"Shape: {df_data.shape} Users: {df_data[USER_COL].nunique()} Items: {df_data[ITEM_COL].nunique()}\")"
   ]
  },
  {
   "cell_type": "code",
   "execution_count": 4,
   "metadata": {},
   "outputs": [
    {
     "name": "stdout",
     "output_type": "stream",
     "text": [
      "train_matcher\n",
      "Shape: (2108779, 12) Users: 2498 Items: 83685\n",
      "val_matcher\n",
      "Shape: (169711, 12) Users: 2154 Items: 27649\n",
      "train_ranker\n",
      "Shape: (169711, 12) Users: 2154 Items: 27649\n",
      "val_ranker\n",
      "Shape: (118314, 12) Users: 2042 Items: 24329\n"
     ]
    }
   ],
   "source": [
    "print_stats_data(data_train_matcher,'train_matcher')\n",
    "print_stats_data(data_val_matcher,'val_matcher')\n",
    "print_stats_data(data_train_ranker,'train_ranker')\n",
    "print_stats_data(data_val_ranker,'val_ranker')"
   ]
  },
  {
   "cell_type": "code",
   "execution_count": 5,
   "metadata": {},
   "outputs": [
    {
     "data": {
      "text/html": [
       "<div>\n",
       "<style scoped>\n",
       "    .dataframe tbody tr th:only-of-type {\n",
       "        vertical-align: middle;\n",
       "    }\n",
       "\n",
       "    .dataframe tbody tr th {\n",
       "        vertical-align: top;\n",
       "    }\n",
       "\n",
       "    .dataframe thead th {\n",
       "        text-align: right;\n",
       "    }\n",
       "</style>\n",
       "<table border=\"1\" class=\"dataframe\">\n",
       "  <thead>\n",
       "    <tr style=\"text-align: right;\">\n",
       "      <th></th>\n",
       "      <th>user_id</th>\n",
       "      <th>basket_id</th>\n",
       "      <th>day</th>\n",
       "      <th>item_id</th>\n",
       "      <th>quantity</th>\n",
       "      <th>sales_value</th>\n",
       "      <th>store_id</th>\n",
       "      <th>retail_disc</th>\n",
       "      <th>trans_time</th>\n",
       "      <th>week_no</th>\n",
       "      <th>coupon_disc</th>\n",
       "      <th>coupon_match_disc</th>\n",
       "    </tr>\n",
       "  </thead>\n",
       "  <tbody>\n",
       "    <tr>\n",
       "      <th>0</th>\n",
       "      <td>2375</td>\n",
       "      <td>26984851472</td>\n",
       "      <td>1</td>\n",
       "      <td>1004906</td>\n",
       "      <td>1</td>\n",
       "      <td>1.39</td>\n",
       "      <td>364</td>\n",
       "      <td>-0.6</td>\n",
       "      <td>1631</td>\n",
       "      <td>1</td>\n",
       "      <td>0.0</td>\n",
       "      <td>0.0</td>\n",
       "    </tr>\n",
       "    <tr>\n",
       "      <th>1</th>\n",
       "      <td>2375</td>\n",
       "      <td>26984851472</td>\n",
       "      <td>1</td>\n",
       "      <td>1033142</td>\n",
       "      <td>1</td>\n",
       "      <td>0.82</td>\n",
       "      <td>364</td>\n",
       "      <td>0.0</td>\n",
       "      <td>1631</td>\n",
       "      <td>1</td>\n",
       "      <td>0.0</td>\n",
       "      <td>0.0</td>\n",
       "    </tr>\n",
       "  </tbody>\n",
       "</table>\n",
       "</div>"
      ],
      "text/plain": [
       "   user_id    basket_id  day  item_id  quantity  sales_value  store_id  \\\n",
       "0     2375  26984851472    1  1004906         1         1.39       364   \n",
       "1     2375  26984851472    1  1033142         1         0.82       364   \n",
       "\n",
       "   retail_disc  trans_time  week_no  coupon_disc  coupon_match_disc  \n",
       "0         -0.6        1631        1          0.0                0.0  \n",
       "1          0.0        1631        1          0.0                0.0  "
      ]
     },
     "execution_count": 5,
     "metadata": {},
     "output_type": "execute_result"
    }
   ],
   "source": [
    "data_train_matcher.head(2)"
   ]
  },
  {
   "cell_type": "markdown",
   "metadata": {},
   "source": [
    "# Prefilter items"
   ]
  },
  {
   "cell_type": "code",
   "execution_count": 6,
   "metadata": {},
   "outputs": [
    {
     "name": "stderr",
     "output_type": "stream",
     "text": [
      "C:\\Users\\Илья\\Desktop\\GeekBrains\\Рекомендательные системы\\webinar_6\\utils.py:20: SettingWithCopyWarning: \n",
      "A value is trying to be set on a copy of a slice from a DataFrame.\n",
      "Try using .loc[row_indexer,col_indexer] = value instead\n",
      "\n",
      "See the caveats in the documentation: https://pandas.pydata.org/pandas-docs/stable/user_guide/indexing.html#returning-a-view-versus-a-copy\n",
      "  data['price'] = data['sales_value'] / (np.maximum(data['quantity'], 1))\n"
     ]
    },
    {
     "name": "stdout",
     "output_type": "stream",
     "text": [
      "Decreased # items from 83685 to 5001\n"
     ]
    }
   ],
   "source": [
    "n_items_before = data_train_matcher['item_id'].nunique()\n",
    "\n",
    "data_train_matcher = prefilter_items(data_train_matcher, item_features=item_features, take_n_popular=5000)\n",
    "\n",
    "n_items_after = data_train_matcher['item_id'].nunique()\n",
    "print('Decreased # items from {} to {}'.format(n_items_before, n_items_after))"
   ]
  },
  {
   "cell_type": "markdown",
   "metadata": {},
   "source": [
    "# Make cold-start to warm-start"
   ]
  },
  {
   "cell_type": "code",
   "execution_count": 7,
   "metadata": {},
   "outputs": [
    {
     "name": "stdout",
     "output_type": "stream",
     "text": [
      "train_matcher\n",
      "Shape: (861404, 13) Users: 2495 Items: 5001\n",
      "val_matcher\n",
      "Shape: (169615, 12) Users: 2151 Items: 27644\n",
      "train_ranker\n",
      "Shape: (169615, 12) Users: 2151 Items: 27644\n",
      "val_ranker\n",
      "Shape: (118282, 12) Users: 2040 Items: 24325\n"
     ]
    }
   ],
   "source": [
    "# ищем общих пользователей\n",
    "common_users = data_train_matcher.user_id.values\n",
    "\n",
    "data_val_matcher = data_val_matcher[data_val_matcher.user_id.isin(common_users)]\n",
    "data_train_ranker = data_train_ranker[data_train_ranker.user_id.isin(common_users)]\n",
    "data_val_ranker = data_val_ranker[data_val_ranker.user_id.isin(common_users)]\n",
    "\n",
    "print_stats_data(data_train_matcher,'train_matcher')\n",
    "print_stats_data(data_val_matcher,'val_matcher')\n",
    "print_stats_data(data_train_ranker,'train_ranker')\n",
    "print_stats_data(data_val_ranker,'val_ranker')"
   ]
  },
  {
   "cell_type": "markdown",
   "metadata": {},
   "source": [
    "**Я изменил fit в MainRecommender на оптимальные параметры ALS, найденные в прошлых уроках**"
   ]
  },
  {
   "cell_type": "code",
   "execution_count": 8,
   "metadata": {},
   "outputs": [
    {
     "name": "stderr",
     "output_type": "stream",
     "text": [
      "WARNING:root:Intel MKL BLAS detected. Its highly recommend to set the environment variable 'export MKL_NUM_THREADS=1' to disable its internal multithreading\n"
     ]
    },
    {
     "data": {
      "application/vnd.jupyter.widget-view+json": {
       "model_id": "d2b3138a5af04219b6de01ab8dbbe7ed",
       "version_major": 2,
       "version_minor": 0
      },
      "text/plain": [
       "HBox(children=(HTML(value=''), FloatProgress(value=0.0, max=17.0), HTML(value='')))"
      ]
     },
     "metadata": {},
     "output_type": "display_data"
    },
    {
     "name": "stdout",
     "output_type": "stream",
     "text": [
      "\n"
     ]
    },
    {
     "data": {
      "application/vnd.jupyter.widget-view+json": {
       "model_id": "37dbbcbf60c8421097f1caa80a90965a",
       "version_major": 2,
       "version_minor": 0
      },
      "text/plain": [
       "HBox(children=(HTML(value=''), FloatProgress(value=0.0, max=5001.0), HTML(value='')))"
      ]
     },
     "metadata": {},
     "output_type": "display_data"
    },
    {
     "name": "stdout",
     "output_type": "stream",
     "text": [
      "\n"
     ]
    }
   ],
   "source": [
    "recommender = MainRecommender(data_train_matcher)"
   ]
  },
  {
   "cell_type": "code",
   "execution_count": 9,
   "metadata": {},
   "outputs": [
    {
     "data": {
      "text/html": [
       "<div>\n",
       "<style scoped>\n",
       "    .dataframe tbody tr th:only-of-type {\n",
       "        vertical-align: middle;\n",
       "    }\n",
       "\n",
       "    .dataframe tbody tr th {\n",
       "        vertical-align: top;\n",
       "    }\n",
       "\n",
       "    .dataframe thead th {\n",
       "        text-align: right;\n",
       "    }\n",
       "</style>\n",
       "<table border=\"1\" class=\"dataframe\">\n",
       "  <thead>\n",
       "    <tr style=\"text-align: right;\">\n",
       "      <th></th>\n",
       "      <th>user_id</th>\n",
       "      <th>actual</th>\n",
       "    </tr>\n",
       "  </thead>\n",
       "  <tbody>\n",
       "    <tr>\n",
       "      <th>0</th>\n",
       "      <td>1</td>\n",
       "      <td>[853529, 865456, 867607, 872137, 874905, 87524...</td>\n",
       "    </tr>\n",
       "    <tr>\n",
       "      <th>1</th>\n",
       "      <td>2</td>\n",
       "      <td>[15830248, 838136, 839656, 861272, 866211, 870...</td>\n",
       "    </tr>\n",
       "  </tbody>\n",
       "</table>\n",
       "</div>"
      ],
      "text/plain": [
       "   user_id                                             actual\n",
       "0        1  [853529, 865456, 867607, 872137, 874905, 87524...\n",
       "1        2  [15830248, 838136, 839656, 861272, 866211, 870..."
      ]
     },
     "execution_count": 9,
     "metadata": {},
     "output_type": "execute_result"
    }
   ],
   "source": [
    "ACTUAL_COL = 'actual'\n",
    "\n",
    "result_eval_matcher = data_val_matcher.groupby(USER_COL)[ITEM_COL].unique().reset_index()\n",
    "result_eval_matcher.columns=[USER_COL, ACTUAL_COL]\n",
    "result_eval_matcher.head(2)"
   ]
  },
  {
   "cell_type": "code",
   "execution_count": 10,
   "metadata": {},
   "outputs": [],
   "source": [
    "N_PREDICT = 50 "
   ]
  },
  {
   "cell_type": "code",
   "execution_count": 11,
   "metadata": {},
   "outputs": [
    {
     "name": "stdout",
     "output_type": "stream",
     "text": [
      "Wall time: 33min 21s\n"
     ]
    }
   ],
   "source": [
    "%%time\n",
    "# для понятности расписано все в строчку, без функций, ваша задача уметь оборачивать все это в функции\n",
    "result_eval_matcher['own_rec'] = result_eval_matcher[USER_COL].apply(lambda x: recommender.get_own_recommendations(x, N=N_PREDICT))\n",
    "result_eval_matcher['sim_item_rec'] = result_eval_matcher[USER_COL].apply(lambda x: recommender.get_similar_items_recommendation(x, N=50))\n",
    "result_eval_matcher['als_rec'] = result_eval_matcher[USER_COL].apply(lambda x: recommender.get_als_recommendations(x, N=50))"
   ]
  },
  {
   "cell_type": "code",
   "execution_count": 12,
   "metadata": {},
   "outputs": [],
   "source": [
    "def calc_recall(df_data, top_k):\n",
    "    for col_name in df_data.columns[2:]:\n",
    "        yield col_name, df_data.apply(lambda row: recall_at_k(row[col_name], row[ACTUAL_COL], k=top_k), axis=1).mean()"
   ]
  },
  {
   "cell_type": "code",
   "execution_count": 13,
   "metadata": {},
   "outputs": [],
   "source": [
    "def calc_precision(df_data, top_k):\n",
    "    for col_name in df_data.columns[2:]:\n",
    "        yield col_name, df_data.apply(lambda row: precision_at_k(row[col_name], row[ACTUAL_COL], k=top_k), axis=1).mean()"
   ]
  },
  {
   "cell_type": "code",
   "execution_count": 14,
   "metadata": {},
   "outputs": [],
   "source": [
    "TOPK_RECALL = 50"
   ]
  },
  {
   "cell_type": "code",
   "execution_count": 15,
   "metadata": {},
   "outputs": [
    {
     "data": {
      "text/plain": [
       "[('own_rec', 0.09731601791843496),\n",
       " ('als_rec', 0.06586307980507604),\n",
       " ('sim_item_rec', 0.03893042711754625)]"
      ]
     },
     "execution_count": 15,
     "metadata": {},
     "output_type": "execute_result"
    }
   ],
   "source": [
    "sorted(calc_recall(result_eval_matcher, TOPK_RECALL), key=lambda x: x[1],reverse=True)"
   ]
  },
  {
   "cell_type": "code",
   "execution_count": 16,
   "metadata": {},
   "outputs": [],
   "source": [
    "TOPK_PRECISION = 5"
   ]
  },
  {
   "cell_type": "code",
   "execution_count": 17,
   "metadata": {},
   "outputs": [
    {
     "data": {
      "text/plain": [
       "[('own_rec', 0.3237563923756395),\n",
       " ('als_rec', 0.16968851696884926),\n",
       " ('sim_item_rec', 0.06861924686192487)]"
      ]
     },
     "execution_count": 17,
     "metadata": {},
     "output_type": "execute_result"
    }
   ],
   "source": [
    "sorted(calc_precision(result_eval_matcher, TOPK_PRECISION), key=lambda x: x[1],reverse=True)"
   ]
  },
  {
   "cell_type": "markdown",
   "metadata": {},
   "source": [
    "Как видно, наибольший recall@k дает own recommendations + top-popular. Так происходит из-за особенностей решаемой задачи - в крупном ритейле пользователи с определенной периодичностью берут похожие товары.\n",
    "\n",
    "Теперь построим зависисмость recall@k от k для own_recommendations"
   ]
  },
  {
   "cell_type": "code",
   "execution_count": 18,
   "metadata": {},
   "outputs": [
    {
     "name": "stdout",
     "output_type": "stream",
     "text": [
      "Wall time: 16min 6s\n"
     ]
    }
   ],
   "source": [
    "%%time\n",
    "\n",
    "result_eval_matcher['own_rec_500'] = result_eval_matcher[USER_COL].apply(lambda x: recommender.get_own_recommendations(x, N=500))"
   ]
  },
  {
   "cell_type": "code",
   "execution_count": 19,
   "metadata": {},
   "outputs": [
    {
     "data": {
      "image/png": "[encoded data removed]",
      "text/plain": [
       "<Figure size 432x288 with 1 Axes>"
      ]
     },
     "metadata": {
      "needs_background": "light"
     },
     "output_type": "display_data"
    }
   ],
   "source": [
    "top_k_list = np.arange(20, 520, 20)\n",
    "recall_list = []\n",
    "for top_k in top_k_list:\n",
    "    recall_list.append(result_eval_matcher.apply(lambda row: recall_at_k(row['own_rec_500'], row[ACTUAL_COL], k=top_k), axis=1).mean())\n",
    "\n",
    "plt.plot(top_k_list, recall_list)\n",
    "plt.xlabel('top_k')\n",
    "plt.ylabel('recall')\n",
    "plt.grid()\n",
    "plt.show()"
   ]
  },
  {
   "cell_type": "markdown",
   "metadata": {},
   "source": [
    "Кореляция recall от k похожа на логарифмическую. При выборе k нужно найти баланс между значением recall и объемом обучающего бустинг датасета, оптимальным кажется 200."
   ]
  },
  {
   "cell_type": "markdown",
   "metadata": {},
   "source": [
    "# Ranking part\n",
    "\n",
    "### Обучаем модель 2-ого уровня на выбранных кандидатах\n",
    "\n",
    "\n",
    "## Подготовка данных для трейна"
   ]
  },
  {
   "cell_type": "code",
   "execution_count": 83,
   "metadata": {},
   "outputs": [],
   "source": [
    "# взяли пользователей из трейна для ранжирования\n",
    "df_match_candidates = pd.DataFrame(data_train_ranker[USER_COL].unique())\n",
    "df_match_candidates.columns = [USER_COL]\n",
    "\n",
    "# собираем кандитатов с первого этапа (matcher)\n",
    "df_match_candidates['candidates'] = df_match_candidates[USER_COL].apply(lambda x: recommender.get_own_recommendations(x, N=N_PREDICT))"
   ]
  },
  {
   "cell_type": "code",
   "execution_count": 84,
   "metadata": {},
   "outputs": [
    {
     "data": {
      "text/html": [
       "<div>\n",
       "<style scoped>\n",
       "    .dataframe tbody tr th:only-of-type {\n",
       "        vertical-align: middle;\n",
       "    }\n",
       "\n",
       "    .dataframe tbody tr th {\n",
       "        vertical-align: top;\n",
       "    }\n",
       "\n",
       "    .dataframe thead th {\n",
       "        text-align: right;\n",
       "    }\n",
       "</style>\n",
       "<table border=\"1\" class=\"dataframe\">\n",
       "  <thead>\n",
       "    <tr style=\"text-align: right;\">\n",
       "      <th></th>\n",
       "      <th>user_id</th>\n",
       "      <th>candidates</th>\n",
       "    </tr>\n",
       "  </thead>\n",
       "  <tbody>\n",
       "    <tr>\n",
       "      <th>0</th>\n",
       "      <td>2070</td>\n",
       "      <td>[1029743, 913210, 1016800, 933067, 838186, 926...</td>\n",
       "    </tr>\n",
       "    <tr>\n",
       "      <th>1</th>\n",
       "      <td>2021</td>\n",
       "      <td>[950935, 1119454, 844179, 1044078, 6534077, 10...</td>\n",
       "    </tr>\n",
       "  </tbody>\n",
       "</table>\n",
       "</div>"
      ],
      "text/plain": [
       "   user_id                                         candidates\n",
       "0     2070  [1029743, 913210, 1016800, 933067, 838186, 926...\n",
       "1     2021  [950935, 1119454, 844179, 1044078, 6534077, 10..."
      ]
     },
     "execution_count": 84,
     "metadata": {},
     "output_type": "execute_result"
    }
   ],
   "source": [
    "df_match_candidates.head(2)"
   ]
  },
  {
   "cell_type": "code",
   "execution_count": 85,
   "metadata": {},
   "outputs": [],
   "source": [
    "df_items = df_match_candidates.apply(lambda x: pd.Series(x['candidates']), axis=1).stack().reset_index(level=1, drop=True)\n",
    "df_items.name = 'item_id'\n",
    "\n",
    "df_match_candidates = df_match_candidates.drop('candidates', axis=1).join(df_items)"
   ]
  },
  {
   "cell_type": "code",
   "execution_count": 86,
   "metadata": {},
   "outputs": [
    {
     "data": {
      "text/html": [
       "<div>\n",
       "<style scoped>\n",
       "    .dataframe tbody tr th:only-of-type {\n",
       "        vertical-align: middle;\n",
       "    }\n",
       "\n",
       "    .dataframe tbody tr th {\n",
       "        vertical-align: top;\n",
       "    }\n",
       "\n",
       "    .dataframe thead th {\n",
       "        text-align: right;\n",
       "    }\n",
       "</style>\n",
       "<table border=\"1\" class=\"dataframe\">\n",
       "  <thead>\n",
       "    <tr style=\"text-align: right;\">\n",
       "      <th></th>\n",
       "      <th>user_id</th>\n",
       "      <th>item_id</th>\n",
       "    </tr>\n",
       "  </thead>\n",
       "  <tbody>\n",
       "    <tr>\n",
       "      <th>0</th>\n",
       "      <td>2070</td>\n",
       "      <td>1029743</td>\n",
       "    </tr>\n",
       "    <tr>\n",
       "      <th>0</th>\n",
       "      <td>2070</td>\n",
       "      <td>913210</td>\n",
       "    </tr>\n",
       "    <tr>\n",
       "      <th>0</th>\n",
       "      <td>2070</td>\n",
       "      <td>1016800</td>\n",
       "    </tr>\n",
       "    <tr>\n",
       "      <th>0</th>\n",
       "      <td>2070</td>\n",
       "      <td>933067</td>\n",
       "    </tr>\n",
       "  </tbody>\n",
       "</table>\n",
       "</div>"
      ],
      "text/plain": [
       "   user_id  item_id\n",
       "0     2070  1029743\n",
       "0     2070   913210\n",
       "0     2070  1016800\n",
       "0     2070   933067"
      ]
     },
     "execution_count": 86,
     "metadata": {},
     "output_type": "execute_result"
    }
   ],
   "source": [
    "df_match_candidates.head(4)"
   ]
  },
  {
   "cell_type": "markdown",
   "metadata": {},
   "source": [
    "### Check warm start"
   ]
  },
  {
   "cell_type": "code",
   "execution_count": 87,
   "metadata": {},
   "outputs": [
    {
     "name": "stdout",
     "output_type": "stream",
     "text": [
      "match_candidates\n",
      "Shape: (107550, 2) Users: 2151 Items: 4879\n"
     ]
    }
   ],
   "source": [
    "print_stats_data(df_match_candidates, 'match_candidates')"
   ]
  },
  {
   "cell_type": "markdown",
   "metadata": {},
   "source": [
    "### Создаем трейн сет для ранжирования с учетом кандидатов с этапа 1 "
   ]
  },
  {
   "cell_type": "code",
   "execution_count": 89,
   "metadata": {},
   "outputs": [
    {
     "data": {
      "text/html": [
       "<div>\n",
       "<style scoped>\n",
       "    .dataframe tbody tr th:only-of-type {\n",
       "        vertical-align: middle;\n",
       "    }\n",
       "\n",
       "    .dataframe tbody tr th {\n",
       "        vertical-align: top;\n",
       "    }\n",
       "\n",
       "    .dataframe thead th {\n",
       "        text-align: right;\n",
       "    }\n",
       "</style>\n",
       "<table border=\"1\" class=\"dataframe\">\n",
       "  <thead>\n",
       "    <tr style=\"text-align: right;\">\n",
       "      <th></th>\n",
       "      <th>user_id</th>\n",
       "      <th>item_id</th>\n",
       "      <th>target</th>\n",
       "    </tr>\n",
       "  </thead>\n",
       "  <tbody>\n",
       "    <tr>\n",
       "      <th>2104867</th>\n",
       "      <td>2070</td>\n",
       "      <td>1019940</td>\n",
       "      <td>1</td>\n",
       "    </tr>\n",
       "    <tr>\n",
       "      <th>2107468</th>\n",
       "      <td>2021</td>\n",
       "      <td>840361</td>\n",
       "      <td>1</td>\n",
       "    </tr>\n",
       "    <tr>\n",
       "      <th>2107469</th>\n",
       "      <td>2021</td>\n",
       "      <td>856060</td>\n",
       "      <td>1</td>\n",
       "    </tr>\n",
       "    <tr>\n",
       "      <th>2107470</th>\n",
       "      <td>2021</td>\n",
       "      <td>869344</td>\n",
       "      <td>1</td>\n",
       "    </tr>\n",
       "    <tr>\n",
       "      <th>2107471</th>\n",
       "      <td>2021</td>\n",
       "      <td>896862</td>\n",
       "      <td>1</td>\n",
       "    </tr>\n",
       "  </tbody>\n",
       "</table>\n",
       "</div>"
      ],
      "text/plain": [
       "         user_id  item_id  target\n",
       "2104867     2070  1019940       1\n",
       "2107468     2021   840361       1\n",
       "2107469     2021   856060       1\n",
       "2107470     2021   869344       1\n",
       "2107471     2021   896862       1"
      ]
     },
     "execution_count": 89,
     "metadata": {},
     "output_type": "execute_result"
    }
   ],
   "source": [
    "df_ranker_train = data_train_ranker[[USER_COL, ITEM_COL]].copy()\n",
    "df_ranker_train['target'] = 1  # тут только покупки \n",
    "df_ranker_train.head()"
   ]
  },
  {
   "cell_type": "markdown",
   "metadata": {},
   "source": [
    "#### Не хватает нулей в датасете, поэтому добавляем наших кандитатов в качество нулей"
   ]
  },
  {
   "cell_type": "code",
   "execution_count": 90,
   "metadata": {},
   "outputs": [
    {
     "data": {
      "text/plain": [
       "0.0    94019\n",
       "1.0    12725\n",
       "Name: target, dtype: int64"
      ]
     },
     "execution_count": 90,
     "metadata": {},
     "output_type": "execute_result"
    }
   ],
   "source": [
    "df_ranker_train = df_match_candidates.merge(df_ranker_train, on=[USER_COL, ITEM_COL], how='left')\n",
    "\n",
    "# чистим дубликаты\n",
    "df_ranker_train = df_ranker_train.drop_duplicates(subset=[USER_COL, ITEM_COL])\n",
    "\n",
    "df_ranker_train['target'].fillna(0, inplace= True)\n",
    "\n",
    "df_ranker_train.target.value_counts()"
   ]
  },
  {
   "cell_type": "markdown",
   "metadata": {},
   "source": [
    "## Подготавливаем фичи для обучения модели"
   ]
  },
  {
   "cell_type": "code",
   "execution_count": 91,
   "metadata": {},
   "outputs": [
    {
     "data": {
      "text/html": [
       "<div>\n",
       "<style scoped>\n",
       "    .dataframe tbody tr th:only-of-type {\n",
       "        vertical-align: middle;\n",
       "    }\n",
       "\n",
       "    .dataframe tbody tr th {\n",
       "        vertical-align: top;\n",
       "    }\n",
       "\n",
       "    .dataframe thead th {\n",
       "        text-align: right;\n",
       "    }\n",
       "</style>\n",
       "<table border=\"1\" class=\"dataframe\">\n",
       "  <thead>\n",
       "    <tr style=\"text-align: right;\">\n",
       "      <th></th>\n",
       "      <th>item_id</th>\n",
       "      <th>manufacturer</th>\n",
       "      <th>department</th>\n",
       "      <th>brand</th>\n",
       "      <th>commodity_desc</th>\n",
       "      <th>sub_commodity_desc</th>\n",
       "      <th>curr_size_of_product</th>\n",
       "    </tr>\n",
       "  </thead>\n",
       "  <tbody>\n",
       "    <tr>\n",
       "      <th>0</th>\n",
       "      <td>25671</td>\n",
       "      <td>2</td>\n",
       "      <td>GROCERY</td>\n",
       "      <td>National</td>\n",
       "      <td>FRZN ICE</td>\n",
       "      <td>ICE - CRUSHED/CUBED</td>\n",
       "      <td>22 LB</td>\n",
       "    </tr>\n",
       "    <tr>\n",
       "      <th>1</th>\n",
       "      <td>26081</td>\n",
       "      <td>2</td>\n",
       "      <td>MISC. TRANS.</td>\n",
       "      <td>National</td>\n",
       "      <td>NO COMMODITY DESCRIPTION</td>\n",
       "      <td>NO SUBCOMMODITY DESCRIPTION</td>\n",
       "      <td></td>\n",
       "    </tr>\n",
       "  </tbody>\n",
       "</table>\n",
       "</div>"
      ],
      "text/plain": [
       "   item_id  manufacturer    department     brand            commodity_desc  \\\n",
       "0    25671             2       GROCERY  National                  FRZN ICE   \n",
       "1    26081             2  MISC. TRANS.  National  NO COMMODITY DESCRIPTION   \n",
       "\n",
       "            sub_commodity_desc curr_size_of_product  \n",
       "0          ICE - CRUSHED/CUBED                22 LB  \n",
       "1  NO SUBCOMMODITY DESCRIPTION                       "
      ]
     },
     "execution_count": 91,
     "metadata": {},
     "output_type": "execute_result"
    }
   ],
   "source": [
    "item_features.head(2)"
   ]
  },
  {
   "cell_type": "code",
   "execution_count": 92,
   "metadata": {},
   "outputs": [
    {
     "data": {
      "text/html": [
       "<div>\n",
       "<style scoped>\n",
       "    .dataframe tbody tr th:only-of-type {\n",
       "        vertical-align: middle;\n",
       "    }\n",
       "\n",
       "    .dataframe tbody tr th {\n",
       "        vertical-align: top;\n",
       "    }\n",
       "\n",
       "    .dataframe thead th {\n",
       "        text-align: right;\n",
       "    }\n",
       "</style>\n",
       "<table border=\"1\" class=\"dataframe\">\n",
       "  <thead>\n",
       "    <tr style=\"text-align: right;\">\n",
       "      <th></th>\n",
       "      <th>age_desc</th>\n",
       "      <th>marital_status_code</th>\n",
       "      <th>income_desc</th>\n",
       "      <th>homeowner_desc</th>\n",
       "      <th>hh_comp_desc</th>\n",
       "      <th>household_size_desc</th>\n",
       "      <th>kid_category_desc</th>\n",
       "      <th>user_id</th>\n",
       "    </tr>\n",
       "  </thead>\n",
       "  <tbody>\n",
       "    <tr>\n",
       "      <th>0</th>\n",
       "      <td>65+</td>\n",
       "      <td>A</td>\n",
       "      <td>35-49K</td>\n",
       "      <td>Homeowner</td>\n",
       "      <td>2 Adults No Kids</td>\n",
       "      <td>2</td>\n",
       "      <td>None/Unknown</td>\n",
       "      <td>1</td>\n",
       "    </tr>\n",
       "    <tr>\n",
       "      <th>1</th>\n",
       "      <td>45-54</td>\n",
       "      <td>A</td>\n",
       "      <td>50-74K</td>\n",
       "      <td>Homeowner</td>\n",
       "      <td>2 Adults No Kids</td>\n",
       "      <td>2</td>\n",
       "      <td>None/Unknown</td>\n",
       "      <td>7</td>\n",
       "    </tr>\n",
       "  </tbody>\n",
       "</table>\n",
       "</div>"
      ],
      "text/plain": [
       "  age_desc marital_status_code income_desc homeowner_desc      hh_comp_desc  \\\n",
       "0      65+                   A      35-49K      Homeowner  2 Adults No Kids   \n",
       "1    45-54                   A      50-74K      Homeowner  2 Adults No Kids   \n",
       "\n",
       "  household_size_desc kid_category_desc  user_id  \n",
       "0                   2      None/Unknown        1  \n",
       "1                   2      None/Unknown        7  "
      ]
     },
     "execution_count": 92,
     "metadata": {},
     "output_type": "execute_result"
    }
   ],
   "source": [
    "user_features.head(2)"
   ]
  },
  {
   "cell_type": "code",
   "execution_count": 93,
   "metadata": {},
   "outputs": [
    {
     "data": {
      "text/html": [
       "<div>\n",
       "<style scoped>\n",
       "    .dataframe tbody tr th:only-of-type {\n",
       "        vertical-align: middle;\n",
       "    }\n",
       "\n",
       "    .dataframe tbody tr th {\n",
       "        vertical-align: top;\n",
       "    }\n",
       "\n",
       "    .dataframe thead th {\n",
       "        text-align: right;\n",
       "    }\n",
       "</style>\n",
       "<table border=\"1\" class=\"dataframe\">\n",
       "  <thead>\n",
       "    <tr style=\"text-align: right;\">\n",
       "      <th></th>\n",
       "      <th>user_id</th>\n",
       "      <th>item_id</th>\n",
       "      <th>target</th>\n",
       "      <th>manufacturer</th>\n",
       "      <th>department</th>\n",
       "      <th>brand</th>\n",
       "      <th>commodity_desc</th>\n",
       "      <th>sub_commodity_desc</th>\n",
       "      <th>curr_size_of_product</th>\n",
       "      <th>age_desc</th>\n",
       "      <th>marital_status_code</th>\n",
       "      <th>income_desc</th>\n",
       "      <th>homeowner_desc</th>\n",
       "      <th>hh_comp_desc</th>\n",
       "      <th>household_size_desc</th>\n",
       "      <th>kid_category_desc</th>\n",
       "    </tr>\n",
       "  </thead>\n",
       "  <tbody>\n",
       "    <tr>\n",
       "      <th>0</th>\n",
       "      <td>2070</td>\n",
       "      <td>1029743</td>\n",
       "      <td>0.0</td>\n",
       "      <td>69</td>\n",
       "      <td>GROCERY</td>\n",
       "      <td>Private</td>\n",
       "      <td>FLUID MILK PRODUCTS</td>\n",
       "      <td>FLUID MILK WHITE ONLY</td>\n",
       "      <td>1 GA</td>\n",
       "      <td>45-54</td>\n",
       "      <td>U</td>\n",
       "      <td>50-74K</td>\n",
       "      <td>Unknown</td>\n",
       "      <td>Unknown</td>\n",
       "      <td>1</td>\n",
       "      <td>None/Unknown</td>\n",
       "    </tr>\n",
       "    <tr>\n",
       "      <th>1</th>\n",
       "      <td>2070</td>\n",
       "      <td>913210</td>\n",
       "      <td>1.0</td>\n",
       "      <td>2</td>\n",
       "      <td>GROCERY</td>\n",
       "      <td>National</td>\n",
       "      <td>WATER - CARBONATED/FLVRD DRINK</td>\n",
       "      <td>NON-CRBNTD DRNKING/MNERAL WATE</td>\n",
       "      <td>405.6 OZ</td>\n",
       "      <td>45-54</td>\n",
       "      <td>U</td>\n",
       "      <td>50-74K</td>\n",
       "      <td>Unknown</td>\n",
       "      <td>Unknown</td>\n",
       "      <td>1</td>\n",
       "      <td>None/Unknown</td>\n",
       "    </tr>\n",
       "  </tbody>\n",
       "</table>\n",
       "</div>"
      ],
      "text/plain": [
       "   user_id  item_id  target  manufacturer department     brand  \\\n",
       "0     2070  1029743     0.0            69    GROCERY   Private   \n",
       "1     2070   913210     1.0             2    GROCERY  National   \n",
       "\n",
       "                   commodity_desc              sub_commodity_desc  \\\n",
       "0             FLUID MILK PRODUCTS           FLUID MILK WHITE ONLY   \n",
       "1  WATER - CARBONATED/FLVRD DRINK  NON-CRBNTD DRNKING/MNERAL WATE   \n",
       "\n",
       "  curr_size_of_product age_desc marital_status_code income_desc  \\\n",
       "0                 1 GA    45-54                   U      50-74K   \n",
       "1             405.6 OZ    45-54                   U      50-74K   \n",
       "\n",
       "  homeowner_desc hh_comp_desc household_size_desc kid_category_desc  \n",
       "0        Unknown      Unknown                   1      None/Unknown  \n",
       "1        Unknown      Unknown                   1      None/Unknown  "
      ]
     },
     "execution_count": 93,
     "metadata": {},
     "output_type": "execute_result"
    }
   ],
   "source": [
    "df_ranker_train = df_ranker_train.merge(item_features, on='item_id', how='left')\n",
    "df_ranker_train = df_ranker_train.merge(user_features, on='user_id', how='left')\n",
    "\n",
    "df_ranker_train.head(2)"
   ]
  },
  {
   "cell_type": "markdown",
   "metadata": {},
   "source": [
    "### Фичи user_id\n",
    "\n",
    "**Найдем средний чек для каждого юзера (average order value)**\n",
    "\n",
    "basket_id - это, видимо, один сеанс покупок пользователя. Сгруппировав по этому признаку, найдем стоимость каждой корзины, а далее найдем AOV"
   ]
  },
  {
   "cell_type": "code",
   "execution_count": 94,
   "metadata": {
    "scrolled": true
   },
   "outputs": [
    {
     "data": {
      "text/html": [
       "<div>\n",
       "<style scoped>\n",
       "    .dataframe tbody tr th:only-of-type {\n",
       "        vertical-align: middle;\n",
       "    }\n",
       "\n",
       "    .dataframe tbody tr th {\n",
       "        vertical-align: top;\n",
       "    }\n",
       "\n",
       "    .dataframe thead th {\n",
       "        text-align: right;\n",
       "    }\n",
       "</style>\n",
       "<table border=\"1\" class=\"dataframe\">\n",
       "  <thead>\n",
       "    <tr style=\"text-align: right;\">\n",
       "      <th></th>\n",
       "      <th>user_id</th>\n",
       "      <th>basket_id</th>\n",
       "      <th>day</th>\n",
       "      <th>item_id</th>\n",
       "      <th>quantity</th>\n",
       "      <th>sales_value</th>\n",
       "      <th>store_id</th>\n",
       "      <th>retail_disc</th>\n",
       "      <th>trans_time</th>\n",
       "      <th>week_no</th>\n",
       "      <th>coupon_disc</th>\n",
       "      <th>coupon_match_disc</th>\n",
       "    </tr>\n",
       "  </thead>\n",
       "  <tbody>\n",
       "    <tr>\n",
       "      <th>2104867</th>\n",
       "      <td>2070</td>\n",
       "      <td>40618492260</td>\n",
       "      <td>594</td>\n",
       "      <td>1019940</td>\n",
       "      <td>1</td>\n",
       "      <td>1.00</td>\n",
       "      <td>311</td>\n",
       "      <td>-0.29</td>\n",
       "      <td>40</td>\n",
       "      <td>86</td>\n",
       "      <td>0.0</td>\n",
       "      <td>0.0</td>\n",
       "    </tr>\n",
       "    <tr>\n",
       "      <th>2107468</th>\n",
       "      <td>2021</td>\n",
       "      <td>40618753059</td>\n",
       "      <td>594</td>\n",
       "      <td>840361</td>\n",
       "      <td>1</td>\n",
       "      <td>0.99</td>\n",
       "      <td>443</td>\n",
       "      <td>0.00</td>\n",
       "      <td>101</td>\n",
       "      <td>86</td>\n",
       "      <td>0.0</td>\n",
       "      <td>0.0</td>\n",
       "    </tr>\n",
       "  </tbody>\n",
       "</table>\n",
       "</div>"
      ],
      "text/plain": [
       "         user_id    basket_id  day  item_id  quantity  sales_value  store_id  \\\n",
       "2104867     2070  40618492260  594  1019940         1         1.00       311   \n",
       "2107468     2021  40618753059  594   840361         1         0.99       443   \n",
       "\n",
       "         retail_disc  trans_time  week_no  coupon_disc  coupon_match_disc  \n",
       "2104867        -0.29          40       86          0.0                0.0  \n",
       "2107468         0.00         101       86          0.0                0.0  "
      ]
     },
     "execution_count": 94,
     "metadata": {},
     "output_type": "execute_result"
    }
   ],
   "source": [
    "data_train_ranker.head(2)"
   ]
  },
  {
   "cell_type": "code",
   "execution_count": 95,
   "metadata": {},
   "outputs": [
    {
     "data": {
      "text/html": [
       "<div>\n",
       "<style scoped>\n",
       "    .dataframe tbody tr th:only-of-type {\n",
       "        vertical-align: middle;\n",
       "    }\n",
       "\n",
       "    .dataframe tbody tr th {\n",
       "        vertical-align: top;\n",
       "    }\n",
       "\n",
       "    .dataframe thead th {\n",
       "        text-align: right;\n",
       "    }\n",
       "</style>\n",
       "<table border=\"1\" class=\"dataframe\">\n",
       "  <thead>\n",
       "    <tr style=\"text-align: right;\">\n",
       "      <th></th>\n",
       "      <th>user_id</th>\n",
       "      <th>aov</th>\n",
       "    </tr>\n",
       "  </thead>\n",
       "  <tbody>\n",
       "    <tr>\n",
       "      <th>0</th>\n",
       "      <td>1</td>\n",
       "      <td>48.825714</td>\n",
       "    </tr>\n",
       "    <tr>\n",
       "      <th>1</th>\n",
       "      <td>2</td>\n",
       "      <td>47.572500</td>\n",
       "    </tr>\n",
       "  </tbody>\n",
       "</table>\n",
       "</div>"
      ],
      "text/plain": [
       "   user_id        aov\n",
       "0        1  48.825714\n",
       "1        2  47.572500"
      ]
     },
     "execution_count": 95,
     "metadata": {},
     "output_type": "execute_result"
    }
   ],
   "source": [
    "aov_df = data_train_ranker.groupby(['user_id', 'basket_id'], as_index=False).agg({'sales_value': 'sum'}).rename(columns={'sales_value': 'order_value'})\n",
    "aov_df = aov_df.groupby(['user_id'], as_index=False).agg({'order_value': 'mean'}).rename(columns={'order_value': 'aov'})\n",
    "aov_df.head(2)"
   ]
  },
  {
   "cell_type": "code",
   "execution_count": 96,
   "metadata": {},
   "outputs": [
    {
     "name": "stdout",
     "output_type": "stream",
     "text": [
      "<class 'pandas.core.frame.DataFrame'>\n",
      "Int64Index: 2151 entries, 0 to 2150\n",
      "Data columns (total 2 columns):\n",
      " #   Column   Non-Null Count  Dtype  \n",
      "---  ------   --------------  -----  \n",
      " 0   user_id  2151 non-null   int64  \n",
      " 1   aov      2151 non-null   float64\n",
      "dtypes: float64(1), int64(1)\n",
      "memory usage: 50.4 KB\n"
     ]
    }
   ],
   "source": [
    "aov_df.info()"
   ]
  },
  {
   "cell_type": "code",
   "execution_count": 97,
   "metadata": {},
   "outputs": [
    {
     "data": {
      "text/plain": [
       "2151"
      ]
     },
     "execution_count": 97,
     "metadata": {},
     "output_type": "execute_result"
    }
   ],
   "source": [
    "df_ranker_train.user_id.nunique()"
   ]
  },
  {
   "cell_type": "markdown",
   "metadata": {},
   "source": [
    "**Средняя сумма покупки 1 товара в каждой категории**"
   ]
  },
  {
   "cell_type": "code",
   "execution_count": 98,
   "metadata": {
    "scrolled": true
   },
   "outputs": [
    {
     "data": {
      "text/html": [
       "<div>\n",
       "<style scoped>\n",
       "    .dataframe tbody tr th:only-of-type {\n",
       "        vertical-align: middle;\n",
       "    }\n",
       "\n",
       "    .dataframe tbody tr th {\n",
       "        vertical-align: top;\n",
       "    }\n",
       "\n",
       "    .dataframe thead th {\n",
       "        text-align: right;\n",
       "    }\n",
       "</style>\n",
       "<table border=\"1\" class=\"dataframe\">\n",
       "  <thead>\n",
       "    <tr style=\"text-align: right;\">\n",
       "      <th>department</th>\n",
       "      <th></th>\n",
       "      <th>AUTOMOTIVE</th>\n",
       "      <th>CHEF SHOPPE</th>\n",
       "      <th>CNTRL/STORE SUP</th>\n",
       "      <th>COSMETICS</th>\n",
       "      <th>COUP/STR &amp; MFG</th>\n",
       "      <th>DELI</th>\n",
       "      <th>DELI/SNACK BAR</th>\n",
       "      <th>DRUG GM</th>\n",
       "      <th>FLORAL</th>\n",
       "      <th>...</th>\n",
       "      <th>PHOTO</th>\n",
       "      <th>PRODUCE</th>\n",
       "      <th>RESTAURANT</th>\n",
       "      <th>RX</th>\n",
       "      <th>SALAD BAR</th>\n",
       "      <th>SEAFOOD</th>\n",
       "      <th>SEAFOOD-PCKGD</th>\n",
       "      <th>SPIRITS</th>\n",
       "      <th>TRAVEL &amp; LEISUR</th>\n",
       "      <th>VIDEO</th>\n",
       "    </tr>\n",
       "    <tr>\n",
       "      <th>user_id</th>\n",
       "      <th></th>\n",
       "      <th></th>\n",
       "      <th></th>\n",
       "      <th></th>\n",
       "      <th></th>\n",
       "      <th></th>\n",
       "      <th></th>\n",
       "      <th></th>\n",
       "      <th></th>\n",
       "      <th></th>\n",
       "      <th></th>\n",
       "      <th></th>\n",
       "      <th></th>\n",
       "      <th></th>\n",
       "      <th></th>\n",
       "      <th></th>\n",
       "      <th></th>\n",
       "      <th></th>\n",
       "      <th></th>\n",
       "      <th></th>\n",
       "      <th></th>\n",
       "    </tr>\n",
       "  </thead>\n",
       "  <tbody>\n",
       "    <tr>\n",
       "      <th>1</th>\n",
       "      <td>0</td>\n",
       "      <td>0.0</td>\n",
       "      <td>0.0</td>\n",
       "      <td>0</td>\n",
       "      <td>0.0</td>\n",
       "      <td>0.0</td>\n",
       "      <td>2.4375</td>\n",
       "      <td>0.0</td>\n",
       "      <td>4.143846</td>\n",
       "      <td>0.0</td>\n",
       "      <td>...</td>\n",
       "      <td>0.0</td>\n",
       "      <td>1.067143</td>\n",
       "      <td>0.0</td>\n",
       "      <td>0.0</td>\n",
       "      <td>3.71</td>\n",
       "      <td>0.0</td>\n",
       "      <td>0.0</td>\n",
       "      <td>0.0</td>\n",
       "      <td>0.0</td>\n",
       "      <td>0.0</td>\n",
       "    </tr>\n",
       "    <tr>\n",
       "      <th>2</th>\n",
       "      <td>0</td>\n",
       "      <td>0.0</td>\n",
       "      <td>0.0</td>\n",
       "      <td>0</td>\n",
       "      <td>0.0</td>\n",
       "      <td>0.0</td>\n",
       "      <td>0.0000</td>\n",
       "      <td>0.0</td>\n",
       "      <td>3.645556</td>\n",
       "      <td>0.0</td>\n",
       "      <td>...</td>\n",
       "      <td>0.0</td>\n",
       "      <td>1.810000</td>\n",
       "      <td>0.0</td>\n",
       "      <td>0.0</td>\n",
       "      <td>0.00</td>\n",
       "      <td>0.0</td>\n",
       "      <td>0.0</td>\n",
       "      <td>0.0</td>\n",
       "      <td>0.0</td>\n",
       "      <td>0.0</td>\n",
       "    </tr>\n",
       "  </tbody>\n",
       "</table>\n",
       "<p>2 rows × 31 columns</p>\n",
       "</div>"
      ],
      "text/plain": [
       "department     AUTOMOTIVE  CHEF SHOPPE  CNTRL/STORE SUP  COSMETICS  \\\n",
       "user_id                                                              \n",
       "1           0         0.0          0.0                0        0.0   \n",
       "2           0         0.0          0.0                0        0.0   \n",
       "\n",
       "department  COUP/STR & MFG    DELI  DELI/SNACK BAR   DRUG GM  FLORAL  ...  \\\n",
       "user_id                                                               ...   \n",
       "1                      0.0  2.4375             0.0  4.143846     0.0  ...   \n",
       "2                      0.0  0.0000             0.0  3.645556     0.0  ...   \n",
       "\n",
       "department  PHOTO   PRODUCE  RESTAURANT   RX  SALAD BAR  SEAFOOD  \\\n",
       "user_id                                                            \n",
       "1             0.0  1.067143         0.0  0.0       3.71      0.0   \n",
       "2             0.0  1.810000         0.0  0.0       0.00      0.0   \n",
       "\n",
       "department  SEAFOOD-PCKGD  SPIRITS  TRAVEL & LEISUR  VIDEO  \n",
       "user_id                                                     \n",
       "1                     0.0      0.0              0.0    0.0  \n",
       "2                     0.0      0.0              0.0    0.0  \n",
       "\n",
       "[2 rows x 31 columns]"
      ]
     },
     "execution_count": 98,
     "metadata": {},
     "output_type": "execute_result"
    }
   ],
   "source": [
    "aov_one_item_by_category = data_train_ranker.copy()\n",
    "aov_one_item_by_category = aov_one_item_by_category.merge(item_features[['item_id','department']], on='item_id', how='left')\n",
    "aov_one_item_by_category = aov_one_item_by_category.groupby(['user_id', 'department'], as_index=False).agg({'quantity': 'sum', 'sales_value': 'sum'})\n",
    "aov_one_item_by_category['aov_one_item_by_category'] = aov_one_item_by_category.sales_value / aov_one_item_by_category.quantity\n",
    "aov_one_item_by_category = pd.pivot_table(aov_one_item_by_category,\n",
    "                                          index='user_id',\n",
    "                                          columns='department',\n",
    "                                          values='aov_one_item_by_category',\n",
    "                                          aggfunc='sum',\n",
    "                                          fill_value=0,\n",
    "                                          )\n",
    "aov_one_item_by_category.head(2)"
   ]
  },
  {
   "cell_type": "code",
   "execution_count": 99,
   "metadata": {},
   "outputs": [
    {
     "name": "stdout",
     "output_type": "stream",
     "text": [
      "<class 'pandas.core.frame.DataFrame'>\n",
      "Int64Index: 2151 entries, 1 to 2500\n",
      "Data columns (total 31 columns):\n",
      " #   Column           Non-Null Count  Dtype  \n",
      "---  ------           --------------  -----  \n",
      " 0                    2151 non-null   int64  \n",
      " 1   AUTOMOTIVE       2151 non-null   float64\n",
      " 2   CHEF SHOPPE      2151 non-null   float64\n",
      " 3   CNTRL/STORE SUP  2151 non-null   int64  \n",
      " 4   COSMETICS        2151 non-null   float64\n",
      " 5   COUP/STR & MFG   2151 non-null   float64\n",
      " 6   DELI             2151 non-null   float64\n",
      " 7   DELI/SNACK BAR   2151 non-null   float64\n",
      " 8   DRUG GM          2151 non-null   float64\n",
      " 9   FLORAL           2151 non-null   float64\n",
      " 10  FROZEN GROCERY   2151 non-null   float64\n",
      " 11  GARDEN CENTER    2151 non-null   float64\n",
      " 12  GM MERCH EXP     2151 non-null   float64\n",
      " 13  GROCERY          2151 non-null   float64\n",
      " 14  KIOSK-GAS        2151 non-null   float64\n",
      " 15  MEAT             2151 non-null   float64\n",
      " 16  MEAT-PCKGD       2151 non-null   float64\n",
      " 17  MISC SALES TRAN  2151 non-null   float64\n",
      " 18  MISC. TRANS.     2151 non-null   float64\n",
      " 19  NUTRITION        2151 non-null   float64\n",
      " 20  PASTRY           2151 non-null   float64\n",
      " 21  PHOTO            2151 non-null   float64\n",
      " 22  PRODUCE          2151 non-null   float64\n",
      " 23  RESTAURANT       2151 non-null   float64\n",
      " 24  RX               2151 non-null   float64\n",
      " 25  SALAD BAR        2151 non-null   float64\n",
      " 26  SEAFOOD          2151 non-null   float64\n",
      " 27  SEAFOOD-PCKGD    2151 non-null   float64\n",
      " 28  SPIRITS          2151 non-null   float64\n",
      " 29  TRAVEL & LEISUR  2151 non-null   float64\n",
      " 30  VIDEO            2151 non-null   float64\n",
      "dtypes: float64(29), int64(2)\n",
      "memory usage: 537.8 KB\n"
     ]
    }
   ],
   "source": [
    "aov_one_item_by_category.info()"
   ]
  },
  {
   "cell_type": "markdown",
   "metadata": {},
   "source": [
    "**Кол-во покупок в каждой категории**"
   ]
  },
  {
   "cell_type": "code",
   "execution_count": 100,
   "metadata": {
    "scrolled": true
   },
   "outputs": [
    {
     "data": {
      "text/html": [
       "<div>\n",
       "<style scoped>\n",
       "    .dataframe tbody tr th:only-of-type {\n",
       "        vertical-align: middle;\n",
       "    }\n",
       "\n",
       "    .dataframe tbody tr th {\n",
       "        vertical-align: top;\n",
       "    }\n",
       "\n",
       "    .dataframe thead th {\n",
       "        text-align: right;\n",
       "    }\n",
       "</style>\n",
       "<table border=\"1\" class=\"dataframe\">\n",
       "  <thead>\n",
       "    <tr style=\"text-align: right;\">\n",
       "      <th>department</th>\n",
       "      <th>qpbd_</th>\n",
       "      <th>qpbd_AUTOMOTIVE</th>\n",
       "      <th>qpbd_CHEF SHOPPE</th>\n",
       "      <th>qpbd_CNTRL/STORE SUP</th>\n",
       "      <th>qpbd_COSMETICS</th>\n",
       "      <th>qpbd_COUP/STR &amp; MFG</th>\n",
       "      <th>qpbd_DELI</th>\n",
       "      <th>qpbd_DELI/SNACK BAR</th>\n",
       "      <th>qpbd_DRUG GM</th>\n",
       "      <th>qpbd_FLORAL</th>\n",
       "      <th>...</th>\n",
       "      <th>qpbd_PHOTO</th>\n",
       "      <th>qpbd_PRODUCE</th>\n",
       "      <th>qpbd_RESTAURANT</th>\n",
       "      <th>qpbd_RX</th>\n",
       "      <th>qpbd_SALAD BAR</th>\n",
       "      <th>qpbd_SEAFOOD</th>\n",
       "      <th>qpbd_SEAFOOD-PCKGD</th>\n",
       "      <th>qpbd_SPIRITS</th>\n",
       "      <th>qpbd_TRAVEL &amp; LEISUR</th>\n",
       "      <th>qpbd_VIDEO</th>\n",
       "    </tr>\n",
       "    <tr>\n",
       "      <th>user_id</th>\n",
       "      <th></th>\n",
       "      <th></th>\n",
       "      <th></th>\n",
       "      <th></th>\n",
       "      <th></th>\n",
       "      <th></th>\n",
       "      <th></th>\n",
       "      <th></th>\n",
       "      <th></th>\n",
       "      <th></th>\n",
       "      <th></th>\n",
       "      <th></th>\n",
       "      <th></th>\n",
       "      <th></th>\n",
       "      <th></th>\n",
       "      <th></th>\n",
       "      <th></th>\n",
       "      <th></th>\n",
       "      <th></th>\n",
       "      <th></th>\n",
       "      <th></th>\n",
       "    </tr>\n",
       "  </thead>\n",
       "  <tbody>\n",
       "    <tr>\n",
       "      <th>1</th>\n",
       "      <td>0</td>\n",
       "      <td>0</td>\n",
       "      <td>0</td>\n",
       "      <td>0</td>\n",
       "      <td>0</td>\n",
       "      <td>0</td>\n",
       "      <td>4</td>\n",
       "      <td>0</td>\n",
       "      <td>13</td>\n",
       "      <td>0</td>\n",
       "      <td>...</td>\n",
       "      <td>0</td>\n",
       "      <td>14</td>\n",
       "      <td>0</td>\n",
       "      <td>0</td>\n",
       "      <td>3</td>\n",
       "      <td>0</td>\n",
       "      <td>0</td>\n",
       "      <td>0</td>\n",
       "      <td>0</td>\n",
       "      <td>0</td>\n",
       "    </tr>\n",
       "    <tr>\n",
       "      <th>2</th>\n",
       "      <td>0</td>\n",
       "      <td>0</td>\n",
       "      <td>0</td>\n",
       "      <td>0</td>\n",
       "      <td>0</td>\n",
       "      <td>0</td>\n",
       "      <td>0</td>\n",
       "      <td>0</td>\n",
       "      <td>9</td>\n",
       "      <td>0</td>\n",
       "      <td>...</td>\n",
       "      <td>0</td>\n",
       "      <td>6</td>\n",
       "      <td>0</td>\n",
       "      <td>0</td>\n",
       "      <td>0</td>\n",
       "      <td>0</td>\n",
       "      <td>0</td>\n",
       "      <td>0</td>\n",
       "      <td>0</td>\n",
       "      <td>0</td>\n",
       "    </tr>\n",
       "    <tr>\n",
       "      <th>4</th>\n",
       "      <td>0</td>\n",
       "      <td>0</td>\n",
       "      <td>0</td>\n",
       "      <td>0</td>\n",
       "      <td>0</td>\n",
       "      <td>0</td>\n",
       "      <td>2</td>\n",
       "      <td>0</td>\n",
       "      <td>5</td>\n",
       "      <td>0</td>\n",
       "      <td>...</td>\n",
       "      <td>0</td>\n",
       "      <td>0</td>\n",
       "      <td>0</td>\n",
       "      <td>0</td>\n",
       "      <td>0</td>\n",
       "      <td>0</td>\n",
       "      <td>0</td>\n",
       "      <td>0</td>\n",
       "      <td>0</td>\n",
       "      <td>0</td>\n",
       "    </tr>\n",
       "    <tr>\n",
       "      <th>6</th>\n",
       "      <td>0</td>\n",
       "      <td>0</td>\n",
       "      <td>0</td>\n",
       "      <td>0</td>\n",
       "      <td>0</td>\n",
       "      <td>0</td>\n",
       "      <td>1</td>\n",
       "      <td>0</td>\n",
       "      <td>24</td>\n",
       "      <td>0</td>\n",
       "      <td>...</td>\n",
       "      <td>0</td>\n",
       "      <td>38</td>\n",
       "      <td>0</td>\n",
       "      <td>0</td>\n",
       "      <td>0</td>\n",
       "      <td>0</td>\n",
       "      <td>1</td>\n",
       "      <td>0</td>\n",
       "      <td>0</td>\n",
       "      <td>0</td>\n",
       "    </tr>\n",
       "  </tbody>\n",
       "</table>\n",
       "<p>4 rows × 31 columns</p>\n",
       "</div>"
      ],
      "text/plain": [
       "department  qpbd_   qpbd_AUTOMOTIVE  qpbd_CHEF SHOPPE  qpbd_CNTRL/STORE SUP  \\\n",
       "user_id                                                                       \n",
       "1                0                0                 0                     0   \n",
       "2                0                0                 0                     0   \n",
       "4                0                0                 0                     0   \n",
       "6                0                0                 0                     0   \n",
       "\n",
       "department  qpbd_COSMETICS  qpbd_COUP/STR & MFG  qpbd_DELI  \\\n",
       "user_id                                                      \n",
       "1                        0                    0          4   \n",
       "2                        0                    0          0   \n",
       "4                        0                    0          2   \n",
       "6                        0                    0          1   \n",
       "\n",
       "department  qpbd_DELI/SNACK BAR  qpbd_DRUG GM  qpbd_FLORAL  ...  qpbd_PHOTO  \\\n",
       "user_id                                                     ...               \n",
       "1                             0            13            0  ...           0   \n",
       "2                             0             9            0  ...           0   \n",
       "4                             0             5            0  ...           0   \n",
       "6                             0            24            0  ...           0   \n",
       "\n",
       "department  qpbd_PRODUCE  qpbd_RESTAURANT  qpbd_RX  qpbd_SALAD BAR  \\\n",
       "user_id                                                              \n",
       "1                     14                0        0               3   \n",
       "2                      6                0        0               0   \n",
       "4                      0                0        0               0   \n",
       "6                     38                0        0               0   \n",
       "\n",
       "department  qpbd_SEAFOOD  qpbd_SEAFOOD-PCKGD  qpbd_SPIRITS  \\\n",
       "user_id                                                      \n",
       "1                      0                   0             0   \n",
       "2                      0                   0             0   \n",
       "4                      0                   0             0   \n",
       "6                      0                   1             0   \n",
       "\n",
       "department  qpbd_TRAVEL & LEISUR  qpbd_VIDEO  \n",
       "user_id                                       \n",
       "1                              0           0  \n",
       "2                              0           0  \n",
       "4                              0           0  \n",
       "6                              0           0  \n",
       "\n",
       "[4 rows x 31 columns]"
      ]
     },
     "execution_count": 100,
     "metadata": {},
     "output_type": "execute_result"
    }
   ],
   "source": [
    "q_purchase_by_department = data_train_ranker.copy()\n",
    "q_purchase_by_department = q_purchase_by_department.merge(item_features[['item_id','department']], on='item_id', how='left')\n",
    "q_purchase_by_department = q_purchase_by_department.groupby(['user_id', 'department'], as_index=False).agg({'quantity': 'sum'}).rename(columns={'quantity': 'q_purchase_by_department'})\n",
    "q_purchase_by_department = pd.pivot_table(q_purchase_by_department,\n",
    "                                          index='user_id',\n",
    "                                          columns='department',\n",
    "                                          values='q_purchase_by_department',\n",
    "                                          aggfunc='sum',\n",
    "                                          fill_value=0,\n",
    "                                          )\n",
    "for col in q_purchase_by_department.columns.tolist():\n",
    "    new_col = 'qpbd_' + col\n",
    "    q_purchase_by_department.rename(columns={col: new_col}, inplace=True)\n",
    "q_purchase_by_department.head(4)"
   ]
  },
  {
   "cell_type": "code",
   "execution_count": 101,
   "metadata": {},
   "outputs": [
    {
     "name": "stdout",
     "output_type": "stream",
     "text": [
      "<class 'pandas.core.frame.DataFrame'>\n",
      "Int64Index: 2151 entries, 1 to 2500\n",
      "Data columns (total 31 columns):\n",
      " #   Column                Non-Null Count  Dtype\n",
      "---  ------                --------------  -----\n",
      " 0   qpbd_                 2151 non-null   int64\n",
      " 1   qpbd_AUTOMOTIVE       2151 non-null   int64\n",
      " 2   qpbd_CHEF SHOPPE      2151 non-null   int64\n",
      " 3   qpbd_CNTRL/STORE SUP  2151 non-null   int64\n",
      " 4   qpbd_COSMETICS        2151 non-null   int64\n",
      " 5   qpbd_COUP/STR & MFG   2151 non-null   int64\n",
      " 6   qpbd_DELI             2151 non-null   int64\n",
      " 7   qpbd_DELI/SNACK BAR   2151 non-null   int64\n",
      " 8   qpbd_DRUG GM          2151 non-null   int64\n",
      " 9   qpbd_FLORAL           2151 non-null   int64\n",
      " 10  qpbd_FROZEN GROCERY   2151 non-null   int64\n",
      " 11  qpbd_GARDEN CENTER    2151 non-null   int64\n",
      " 12  qpbd_GM MERCH EXP     2151 non-null   int64\n",
      " 13  qpbd_GROCERY          2151 non-null   int64\n",
      " 14  qpbd_KIOSK-GAS        2151 non-null   int64\n",
      " 15  qpbd_MEAT             2151 non-null   int64\n",
      " 16  qpbd_MEAT-PCKGD       2151 non-null   int64\n",
      " 17  qpbd_MISC SALES TRAN  2151 non-null   int64\n",
      " 18  qpbd_MISC. TRANS.     2151 non-null   int64\n",
      " 19  qpbd_NUTRITION        2151 non-null   int64\n",
      " 20  qpbd_PASTRY           2151 non-null   int64\n",
      " 21  qpbd_PHOTO            2151 non-null   int64\n",
      " 22  qpbd_PRODUCE          2151 non-null   int64\n",
      " 23  qpbd_RESTAURANT       2151 non-null   int64\n",
      " 24  qpbd_RX               2151 non-null   int64\n",
      " 25  qpbd_SALAD BAR        2151 non-null   int64\n",
      " 26  qpbd_SEAFOOD          2151 non-null   int64\n",
      " 27  qpbd_SEAFOOD-PCKGD    2151 non-null   int64\n",
      " 28  qpbd_SPIRITS          2151 non-null   int64\n",
      " 29  qpbd_TRAVEL & LEISUR  2151 non-null   int64\n",
      " 30  qpbd_VIDEO            2151 non-null   int64\n",
      "dtypes: int64(31)\n",
      "memory usage: 537.8 KB\n"
     ]
    }
   ],
   "source": [
    "q_purchase_by_department.info()"
   ]
  },
  {
   "cell_type": "markdown",
   "metadata": {},
   "source": [
    "**Частотность покупок раз/неделя**"
   ]
  },
  {
   "cell_type": "code",
   "execution_count": 102,
   "metadata": {},
   "outputs": [
    {
     "data": {
      "text/html": [
       "<div>\n",
       "<style scoped>\n",
       "    .dataframe tbody tr th:only-of-type {\n",
       "        vertical-align: middle;\n",
       "    }\n",
       "\n",
       "    .dataframe tbody tr th {\n",
       "        vertical-align: top;\n",
       "    }\n",
       "\n",
       "    .dataframe thead th {\n",
       "        text-align: right;\n",
       "    }\n",
       "</style>\n",
       "<table border=\"1\" class=\"dataframe\">\n",
       "  <thead>\n",
       "    <tr style=\"text-align: right;\">\n",
       "      <th></th>\n",
       "      <th>user_id</th>\n",
       "      <th>frec_purchase</th>\n",
       "    </tr>\n",
       "  </thead>\n",
       "  <tbody>\n",
       "    <tr>\n",
       "      <th>0</th>\n",
       "      <td>1</td>\n",
       "      <td>29.6</td>\n",
       "    </tr>\n",
       "    <tr>\n",
       "      <th>1</th>\n",
       "      <td>2</td>\n",
       "      <td>16.8</td>\n",
       "    </tr>\n",
       "    <tr>\n",
       "      <th>2</th>\n",
       "      <td>4</td>\n",
       "      <td>7.6</td>\n",
       "    </tr>\n",
       "    <tr>\n",
       "      <th>3</th>\n",
       "      <td>6</td>\n",
       "      <td>28.2</td>\n",
       "    </tr>\n",
       "  </tbody>\n",
       "</table>\n",
       "</div>"
      ],
      "text/plain": [
       "   user_id  frec_purchase\n",
       "0        1           29.6\n",
       "1        2           16.8\n",
       "2        4            7.6\n",
       "3        6           28.2"
      ]
     },
     "execution_count": 102,
     "metadata": {},
     "output_type": "execute_result"
    }
   ],
   "source": [
    "time_interval = data_train_ranker['week_no'].max() - data_train_ranker['week_no'].min()\n",
    "frec_purchase = data_train_ranker.groupby(['user_id'], as_index=False).agg({'quantity': 'sum'}).rename(columns={'quantity': 'frec_purchase'})\n",
    "frec_purchase.frec_purchase = frec_purchase.frec_purchase / time_interval\n",
    "frec_purchase.head(4)"
   ]
  },
  {
   "cell_type": "code",
   "execution_count": 103,
   "metadata": {},
   "outputs": [
    {
     "name": "stdout",
     "output_type": "stream",
     "text": [
      "<class 'pandas.core.frame.DataFrame'>\n",
      "Int64Index: 2151 entries, 0 to 2150\n",
      "Data columns (total 2 columns):\n",
      " #   Column         Non-Null Count  Dtype  \n",
      "---  ------         --------------  -----  \n",
      " 0   user_id        2151 non-null   int64  \n",
      " 1   frec_purchase  2151 non-null   float64\n",
      "dtypes: float64(1), int64(1)\n",
      "memory usage: 50.4 KB\n"
     ]
    }
   ],
   "source": [
    "frec_purchase.info()"
   ]
  },
  {
   "cell_type": "markdown",
   "metadata": {},
   "source": [
    "### Фичи item_id\n",
    "\n",
    "**Кол-во покупок в неделю**"
   ]
  },
  {
   "cell_type": "code",
   "execution_count": 104,
   "metadata": {
    "scrolled": true
   },
   "outputs": [
    {
     "data": {
      "text/html": [
       "<div>\n",
       "<style scoped>\n",
       "    .dataframe tbody tr th:only-of-type {\n",
       "        vertical-align: middle;\n",
       "    }\n",
       "\n",
       "    .dataframe tbody tr th {\n",
       "        vertical-align: top;\n",
       "    }\n",
       "\n",
       "    .dataframe thead th {\n",
       "        text-align: right;\n",
       "    }\n",
       "</style>\n",
       "<table border=\"1\" class=\"dataframe\">\n",
       "  <thead>\n",
       "    <tr style=\"text-align: right;\">\n",
       "      <th></th>\n",
       "      <th>item_id</th>\n",
       "      <th>items_week</th>\n",
       "    </tr>\n",
       "  </thead>\n",
       "  <tbody>\n",
       "    <tr>\n",
       "      <th>0</th>\n",
       "      <td>28116</td>\n",
       "      <td>0.2</td>\n",
       "    </tr>\n",
       "    <tr>\n",
       "      <th>1</th>\n",
       "      <td>28117</td>\n",
       "      <td>0.2</td>\n",
       "    </tr>\n",
       "  </tbody>\n",
       "</table>\n",
       "</div>"
      ],
      "text/plain": [
       "   item_id  items_week\n",
       "0    28116         0.2\n",
       "1    28117         0.2"
      ]
     },
     "execution_count": 104,
     "metadata": {},
     "output_type": "execute_result"
    }
   ],
   "source": [
    "time_interval = data_train_ranker['week_no'].max() - data_train_ranker['week_no'].min()\n",
    "items_week = data_train_ranker.groupby(['item_id'], as_index=False).agg({'quantity': 'sum'}).rename(columns={'quantity': 'items_week'})\n",
    "items_week.items_week = items_week.items_week / time_interval\n",
    "items_week.head(2)"
   ]
  },
  {
   "cell_type": "code",
   "execution_count": 105,
   "metadata": {},
   "outputs": [
    {
     "name": "stdout",
     "output_type": "stream",
     "text": [
      "<class 'pandas.core.frame.DataFrame'>\n",
      "Int64Index: 27644 entries, 0 to 27643\n",
      "Data columns (total 2 columns):\n",
      " #   Column      Non-Null Count  Dtype  \n",
      "---  ------      --------------  -----  \n",
      " 0   item_id     27644 non-null  int64  \n",
      " 1   items_week  27644 non-null  float64\n",
      "dtypes: float64(1), int64(1)\n",
      "memory usage: 647.9 KB\n"
     ]
    }
   ],
   "source": [
    "items_week.info()"
   ]
  },
  {
   "cell_type": "code",
   "execution_count": 106,
   "metadata": {},
   "outputs": [
    {
     "data": {
      "text/plain": [
       "27644"
      ]
     },
     "execution_count": 106,
     "metadata": {},
     "output_type": "execute_result"
    }
   ],
   "source": [
    "items_week.item_id.nunique()"
   ]
  },
  {
   "cell_type": "code",
   "execution_count": 107,
   "metadata": {},
   "outputs": [
    {
     "data": {
      "text/plain": [
       "506"
      ]
     },
     "execution_count": 107,
     "metadata": {},
     "output_type": "execute_result"
    }
   ],
   "source": [
    "a = set(items_week.item_id.unique())\n",
    "b = set(df_ranker_train.item_id.unique().tolist())\n",
    "len(b-a)"
   ]
  },
  {
   "cell_type": "markdown",
   "metadata": {},
   "source": [
    "**Среднее кол-во покупок 1 товара в категории в неделю**"
   ]
  },
  {
   "cell_type": "code",
   "execution_count": 108,
   "metadata": {},
   "outputs": [
    {
     "data": {
      "text/html": [
       "<div>\n",
       "<style scoped>\n",
       "    .dataframe tbody tr th:only-of-type {\n",
       "        vertical-align: middle;\n",
       "    }\n",
       "\n",
       "    .dataframe tbody tr th {\n",
       "        vertical-align: top;\n",
       "    }\n",
       "\n",
       "    .dataframe thead th {\n",
       "        text-align: right;\n",
       "    }\n",
       "</style>\n",
       "<table border=\"1\" class=\"dataframe\">\n",
       "  <thead>\n",
       "    <tr style=\"text-align: right;\">\n",
       "      <th></th>\n",
       "      <th>department</th>\n",
       "      <th>average_purchase_by_department</th>\n",
       "    </tr>\n",
       "  </thead>\n",
       "  <tbody>\n",
       "    <tr>\n",
       "      <th>0</th>\n",
       "      <td></td>\n",
       "      <td>0.000</td>\n",
       "    </tr>\n",
       "    <tr>\n",
       "      <th>1</th>\n",
       "      <td>AUTOMOTIVE</td>\n",
       "      <td>0.200</td>\n",
       "    </tr>\n",
       "    <tr>\n",
       "      <th>2</th>\n",
       "      <td>CHEF SHOPPE</td>\n",
       "      <td>1.725</td>\n",
       "    </tr>\n",
       "    <tr>\n",
       "      <th>3</th>\n",
       "      <td>CNTRL/STORE SUP</td>\n",
       "      <td>0.900</td>\n",
       "    </tr>\n",
       "  </tbody>\n",
       "</table>\n",
       "</div>"
      ],
      "text/plain": [
       "        department  average_purchase_by_department\n",
       "0                                            0.000\n",
       "1       AUTOMOTIVE                           0.200\n",
       "2      CHEF SHOPPE                           1.725\n",
       "3  CNTRL/STORE SUP                           0.900"
      ]
     },
     "execution_count": 108,
     "metadata": {},
     "output_type": "execute_result"
    }
   ],
   "source": [
    "average_purchase_by_department = data_train_ranker.copy()\n",
    "average_purchase_by_department = average_purchase_by_department.merge(item_features[['item_id','department']], on='item_id', how='left')\n",
    "average_purchase_by_department = average_purchase_by_department.groupby(['department', 'item_id'], as_index=False).agg({'quantity': 'sum'}).rename(columns={'quantity': 'average_purchase_by_department'})\n",
    "average_purchase_by_department = average_purchase_by_department.groupby(['department'], as_index=False).agg({'average_purchase_by_department': 'mean'})\n",
    "average_purchase_by_department.average_purchase_by_department = average_purchase_by_department.average_purchase_by_department / time_interval\n",
    "average_purchase_by_department.head(4)"
   ]
  },
  {
   "cell_type": "code",
   "execution_count": 109,
   "metadata": {},
   "outputs": [
    {
     "name": "stdout",
     "output_type": "stream",
     "text": [
      "<class 'pandas.core.frame.DataFrame'>\n",
      "Int64Index: 31 entries, 0 to 30\n",
      "Data columns (total 2 columns):\n",
      " #   Column                          Non-Null Count  Dtype  \n",
      "---  ------                          --------------  -----  \n",
      " 0   department                      31 non-null     object \n",
      " 1   average_purchase_by_department  31 non-null     float64\n",
      "dtypes: float64(1), object(1)\n",
      "memory usage: 744.0+ bytes\n"
     ]
    }
   ],
   "source": [
    "average_purchase_by_department.info()"
   ]
  },
  {
   "cell_type": "code",
   "execution_count": 110,
   "metadata": {},
   "outputs": [
    {
     "data": {
      "text/plain": [
       "13"
      ]
     },
     "execution_count": 110,
     "metadata": {},
     "output_type": "execute_result"
    }
   ],
   "source": [
    "df_ranker_train.department.nunique()"
   ]
  },
  {
   "cell_type": "markdown",
   "metadata": {},
   "source": [
    "**(Кол-во покупок в неделю) / (Среднее кол-во покупок 1 товара в категории в неделю)**"
   ]
  },
  {
   "cell_type": "code",
   "execution_count": 111,
   "metadata": {},
   "outputs": [
    {
     "data": {
      "text/html": [
       "<div>\n",
       "<style scoped>\n",
       "    .dataframe tbody tr th:only-of-type {\n",
       "        vertical-align: middle;\n",
       "    }\n",
       "\n",
       "    .dataframe tbody tr th {\n",
       "        vertical-align: top;\n",
       "    }\n",
       "\n",
       "    .dataframe thead th {\n",
       "        text-align: right;\n",
       "    }\n",
       "</style>\n",
       "<table border=\"1\" class=\"dataframe\">\n",
       "  <thead>\n",
       "    <tr style=\"text-align: right;\">\n",
       "      <th></th>\n",
       "      <th>item_id</th>\n",
       "      <th>items_week_vs_apbd</th>\n",
       "    </tr>\n",
       "  </thead>\n",
       "  <tbody>\n",
       "    <tr>\n",
       "      <th>0</th>\n",
       "      <td>1019940</td>\n",
       "      <td>1.008054</td>\n",
       "    </tr>\n",
       "    <tr>\n",
       "      <th>1</th>\n",
       "      <td>840361</td>\n",
       "      <td>47.580167</td>\n",
       "    </tr>\n",
       "    <tr>\n",
       "      <th>2</th>\n",
       "      <td>856060</td>\n",
       "      <td>6.552354</td>\n",
       "    </tr>\n",
       "    <tr>\n",
       "      <th>3</th>\n",
       "      <td>869344</td>\n",
       "      <td>1.008054</td>\n",
       "    </tr>\n",
       "  </tbody>\n",
       "</table>\n",
       "</div>"
      ],
      "text/plain": [
       "   item_id  items_week_vs_apbd\n",
       "0  1019940            1.008054\n",
       "1   840361           47.580167\n",
       "2   856060            6.552354\n",
       "3   869344            1.008054"
      ]
     },
     "execution_count": 111,
     "metadata": {},
     "output_type": "execute_result"
    }
   ],
   "source": [
    "items_week_vs_apbd = data_train_ranker.copy()\n",
    "items_week_vs_apbd = items_week_vs_apbd.merge(items_week, on='item_id', how='left')\n",
    "items_week_vs_apbd = items_week_vs_apbd.merge(item_features[['item_id','department']], on='item_id', how='left')\n",
    "items_week_vs_apbd = items_week_vs_apbd.merge(average_purchase_by_department, on='department', how='left')\n",
    "items_week_vs_apbd.loc[items_week_vs_apbd['average_purchase_by_department'] == 0, 'average_purchase_by_department'] = 1\n",
    "items_week_vs_apbd['items_week_vs_apbd'] = items_week_vs_apbd.items_week / items_week_vs_apbd.average_purchase_by_department\n",
    "items_week_vs_apbd = items_week_vs_apbd[['item_id', 'items_week_vs_apbd']]\n",
    "items_week_vs_apbd = items_week_vs_apbd.drop_duplicates(subset=['item_id'])\n",
    "items_week_vs_apbd.head(4)"
   ]
  },
  {
   "cell_type": "code",
   "execution_count": 112,
   "metadata": {},
   "outputs": [
    {
     "data": {
      "text/plain": [
       "27644"
      ]
     },
     "execution_count": 112,
     "metadata": {},
     "output_type": "execute_result"
    }
   ],
   "source": [
    "items_week_vs_apbd.item_id.nunique()"
   ]
  },
  {
   "cell_type": "code",
   "execution_count": 113,
   "metadata": {},
   "outputs": [
    {
     "data": {
      "text/plain": [
       "(27644, 2)"
      ]
     },
     "execution_count": 113,
     "metadata": {},
     "output_type": "execute_result"
    }
   ],
   "source": [
    "items_week_vs_apbd.shape"
   ]
  },
  {
   "cell_type": "markdown",
   "metadata": {},
   "source": [
    "**Цена / Средняя цена товара в категории**\n",
    "\n",
    "Так как в data_train_ranker есть не все items из data_train_matcher, сделаем датасет data_train_items для генерации фичей по items"
   ]
  },
  {
   "cell_type": "code",
   "execution_count": 114,
   "metadata": {},
   "outputs": [],
   "source": [
    "data_train_items = data[data['week_no'] < data['week_no'].max() - (VAL_RANKER_WEEKS)]"
   ]
  },
  {
   "cell_type": "code",
   "execution_count": 115,
   "metadata": {},
   "outputs": [
    {
     "data": {
      "text/html": [
       "<div>\n",
       "<style scoped>\n",
       "    .dataframe tbody tr th:only-of-type {\n",
       "        vertical-align: middle;\n",
       "    }\n",
       "\n",
       "    .dataframe tbody tr th {\n",
       "        vertical-align: top;\n",
       "    }\n",
       "\n",
       "    .dataframe thead th {\n",
       "        text-align: right;\n",
       "    }\n",
       "</style>\n",
       "<table border=\"1\" class=\"dataframe\">\n",
       "  <thead>\n",
       "    <tr style=\"text-align: right;\">\n",
       "      <th></th>\n",
       "      <th>item_id</th>\n",
       "      <th>price</th>\n",
       "      <th>price_vs_apc</th>\n",
       "    </tr>\n",
       "  </thead>\n",
       "  <tbody>\n",
       "    <tr>\n",
       "      <th>0</th>\n",
       "      <td>1004906</td>\n",
       "      <td>1.39</td>\n",
       "      <td>0.568198</td>\n",
       "    </tr>\n",
       "    <tr>\n",
       "      <th>1</th>\n",
       "      <td>1033142</td>\n",
       "      <td>0.82</td>\n",
       "      <td>0.335196</td>\n",
       "    </tr>\n",
       "  </tbody>\n",
       "</table>\n",
       "</div>"
      ],
      "text/plain": [
       "   item_id  price  price_vs_apc\n",
       "0  1004906   1.39      0.568198\n",
       "1  1033142   0.82      0.335196"
      ]
     },
     "execution_count": 115,
     "metadata": {},
     "output_type": "execute_result"
    }
   ],
   "source": [
    "price_vs_apc = data_train_items.copy()\n",
    "price_vs_apc.loc[price_vs_apc['quantity']==0, 'quantity'] = 1\n",
    "price_vs_apc['price'] = price_vs_apc['sales_value'] / price_vs_apc['quantity']\n",
    "price_vs_apc.loc[price_vs_apc['price']==0, 'price'] = 1\n",
    "price_vs_apc = price_vs_apc.merge(item_features[['item_id','department']], on='item_id', how='left')\n",
    "price_vs_apc = price_vs_apc.drop_duplicates(subset=['item_id'])\n",
    "apc = price_vs_apc.groupby(['department'], as_index=False).agg({'price': 'mean'}).rename(columns={'price': 'apc'})\n",
    "price_vs_apc = price_vs_apc.merge(apc, on='department', how='left')\n",
    "price_vs_apc.loc[price_vs_apc['apc']==0, 'apc'] = 1\n",
    "price_vs_apc['price_vs_apc'] = price_vs_apc.price / price_vs_apc.apc\n",
    "price_vs_apc = price_vs_apc[['item_id', 'price', 'price_vs_apc']]\n",
    "price_vs_apc.head(2)"
   ]
  },
  {
   "cell_type": "code",
   "execution_count": 116,
   "metadata": {},
   "outputs": [
    {
     "data": {
      "text/plain": [
       "86865"
      ]
     },
     "execution_count": 116,
     "metadata": {},
     "output_type": "execute_result"
    }
   ],
   "source": [
    "price_vs_apc.item_id.nunique()"
   ]
  },
  {
   "cell_type": "code",
   "execution_count": 117,
   "metadata": {},
   "outputs": [
    {
     "data": {
      "text/plain": [
       "0"
      ]
     },
     "execution_count": 117,
     "metadata": {},
     "output_type": "execute_result"
    }
   ],
   "source": [
    "a = set(price_vs_apc.item_id.unique())\n",
    "b = set(df_ranker_train.item_id.unique().tolist())\n",
    "len(b-a)"
   ]
  },
  {
   "cell_type": "markdown",
   "metadata": {},
   "source": [
    "### Фичи user-item\n",
    "\n",
    "**(Средняя сумма покупки 1 товара в каждой категории (берем категорию item_id)) / (Цена item_id)**"
   ]
  },
  {
   "cell_type": "code",
   "execution_count": 1,
   "metadata": {},
   "outputs": [
    {
     "ename": "NameError",
     "evalue": "name 'df_ranker_train' is not defined",
     "output_type": "error",
     "traceback": [
      "\u001b[0;31m---------------------------------------------------------------------------\u001b[0m",
      "\u001b[0;31mNameError\u001b[0m                                 Traceback (most recent call last)",
      "Input \u001b[0;32mIn [1]\u001b[0m, in \u001b[0;36m<cell line: 1>\u001b[0;34m()\u001b[0m\n\u001b[0;32m----> 1\u001b[0m main_features \u001b[38;5;241m=\u001b[39m \u001b[43mdf_ranker_train\u001b[49m\u001b[38;5;241m.\u001b[39mdrop(columns\u001b[38;5;241m=\u001b[39m[\u001b[38;5;124m'\u001b[39m\u001b[38;5;124mtarget\u001b[39m\u001b[38;5;124m'\u001b[39m])\u001b[38;5;241m.\u001b[39mcolumns\u001b[38;5;241m.\u001b[39mtolist()\n\u001b[1;32m      2\u001b[0m main_features\n",
      "\u001b[0;31mNameError\u001b[0m: name 'df_ranker_train' is not defined"
     ]
    }
   ],
   "source": [
    "main_features = df_ranker_train.drop(columns=['target']).columns.tolist()\n",
    "main_features"
   ]
  },
  {
   "cell_type": "code",
   "execution_count": 119,
   "metadata": {},
   "outputs": [
    {
     "data": {
      "text/plain": [
       "(106744, 16)"
      ]
     },
     "execution_count": 119,
     "metadata": {},
     "output_type": "execute_result"
    }
   ],
   "source": [
    "df_ranker_train.shape"
   ]
  },
  {
   "cell_type": "code",
   "execution_count": 120,
   "metadata": {},
   "outputs": [
    {
     "data": {
      "text/html": [
       "<div>\n",
       "<style scoped>\n",
       "    .dataframe tbody tr th:only-of-type {\n",
       "        vertical-align: middle;\n",
       "    }\n",
       "\n",
       "    .dataframe tbody tr th {\n",
       "        vertical-align: top;\n",
       "    }\n",
       "\n",
       "    .dataframe thead th {\n",
       "        text-align: right;\n",
       "    }\n",
       "</style>\n",
       "<table border=\"1\" class=\"dataframe\">\n",
       "  <thead>\n",
       "    <tr style=\"text-align: right;\">\n",
       "      <th></th>\n",
       "      <th>user_id</th>\n",
       "      <th>item_id</th>\n",
       "      <th>target</th>\n",
       "      <th>manufacturer</th>\n",
       "      <th>department</th>\n",
       "      <th>brand</th>\n",
       "      <th>commodity_desc</th>\n",
       "      <th>sub_commodity_desc</th>\n",
       "      <th>curr_size_of_product</th>\n",
       "      <th>age_desc</th>\n",
       "      <th>...</th>\n",
       "      <th>qpbd_SEAFOOD-PCKGD</th>\n",
       "      <th>qpbd_SPIRITS</th>\n",
       "      <th>qpbd_TRAVEL &amp; LEISUR</th>\n",
       "      <th>qpbd_VIDEO</th>\n",
       "      <th>frec_purchase</th>\n",
       "      <th>items_week</th>\n",
       "      <th>average_purchase_by_department</th>\n",
       "      <th>items_week_vs_apbd</th>\n",
       "      <th>price</th>\n",
       "      <th>price_vs_apc</th>\n",
       "    </tr>\n",
       "  </thead>\n",
       "  <tbody>\n",
       "    <tr>\n",
       "      <th>0</th>\n",
       "      <td>2070</td>\n",
       "      <td>1029743</td>\n",
       "      <td>0.0</td>\n",
       "      <td>69</td>\n",
       "      <td>GROCERY</td>\n",
       "      <td>Private</td>\n",
       "      <td>FLUID MILK PRODUCTS</td>\n",
       "      <td>FLUID MILK WHITE ONLY</td>\n",
       "      <td>1 GA</td>\n",
       "      <td>45-54</td>\n",
       "      <td>...</td>\n",
       "      <td>1</td>\n",
       "      <td>0</td>\n",
       "      <td>0</td>\n",
       "      <td>0</td>\n",
       "      <td>3510.0</td>\n",
       "      <td>254.2</td>\n",
       "      <td>1.984020</td>\n",
       "      <td>128.123713</td>\n",
       "      <td>2.49</td>\n",
       "      <td>0.873676</td>\n",
       "    </tr>\n",
       "    <tr>\n",
       "      <th>1</th>\n",
       "      <td>2070</td>\n",
       "      <td>913210</td>\n",
       "      <td>1.0</td>\n",
       "      <td>2</td>\n",
       "      <td>GROCERY</td>\n",
       "      <td>National</td>\n",
       "      <td>WATER - CARBONATED/FLVRD DRINK</td>\n",
       "      <td>NON-CRBNTD DRNKING/MNERAL WATE</td>\n",
       "      <td>405.6 OZ</td>\n",
       "      <td>45-54</td>\n",
       "      <td>...</td>\n",
       "      <td>1</td>\n",
       "      <td>0</td>\n",
       "      <td>0</td>\n",
       "      <td>0</td>\n",
       "      <td>3510.0</td>\n",
       "      <td>24.2</td>\n",
       "      <td>1.984020</td>\n",
       "      <td>12.197458</td>\n",
       "      <td>3.99</td>\n",
       "      <td>1.399986</td>\n",
       "    </tr>\n",
       "    <tr>\n",
       "      <th>2</th>\n",
       "      <td>2070</td>\n",
       "      <td>1016800</td>\n",
       "      <td>0.0</td>\n",
       "      <td>103</td>\n",
       "      <td>GROCERY</td>\n",
       "      <td>National</td>\n",
       "      <td>SOFT DRINKS</td>\n",
       "      <td>SOFT DRINKS 12/18&amp;15PK CAN CAR</td>\n",
       "      <td>12 OZ</td>\n",
       "      <td>45-54</td>\n",
       "      <td>...</td>\n",
       "      <td>1</td>\n",
       "      <td>0</td>\n",
       "      <td>0</td>\n",
       "      <td>0</td>\n",
       "      <td>3510.0</td>\n",
       "      <td>5.6</td>\n",
       "      <td>1.984020</td>\n",
       "      <td>2.822552</td>\n",
       "      <td>0.82</td>\n",
       "      <td>0.287716</td>\n",
       "    </tr>\n",
       "    <tr>\n",
       "      <th>3</th>\n",
       "      <td>2070</td>\n",
       "      <td>933067</td>\n",
       "      <td>1.0</td>\n",
       "      <td>1425</td>\n",
       "      <td>MEAT-PCKGD</td>\n",
       "      <td>National</td>\n",
       "      <td>BACON</td>\n",
       "      <td>FLAVORED/OTHER</td>\n",
       "      <td>16 OZ</td>\n",
       "      <td>45-54</td>\n",
       "      <td>...</td>\n",
       "      <td>1</td>\n",
       "      <td>0</td>\n",
       "      <td>0</td>\n",
       "      <td>0</td>\n",
       "      <td>3510.0</td>\n",
       "      <td>11.8</td>\n",
       "      <td>1.993160</td>\n",
       "      <td>5.920246</td>\n",
       "      <td>2.50</td>\n",
       "      <td>0.808983</td>\n",
       "    </tr>\n",
       "    <tr>\n",
       "      <th>4</th>\n",
       "      <td>2070</td>\n",
       "      <td>838186</td>\n",
       "      <td>1.0</td>\n",
       "      <td>1790</td>\n",
       "      <td>GROCERY</td>\n",
       "      <td>National</td>\n",
       "      <td>BAKED SWEET GOODS</td>\n",
       "      <td>SW GDS:DONUTS</td>\n",
       "      <td>18.2 OZ</td>\n",
       "      <td>45-54</td>\n",
       "      <td>...</td>\n",
       "      <td>1</td>\n",
       "      <td>0</td>\n",
       "      <td>0</td>\n",
       "      <td>0</td>\n",
       "      <td>3510.0</td>\n",
       "      <td>11.2</td>\n",
       "      <td>1.984020</td>\n",
       "      <td>5.645105</td>\n",
       "      <td>4.49</td>\n",
       "      <td>1.575423</td>\n",
       "    </tr>\n",
       "    <tr>\n",
       "      <th>...</th>\n",
       "      <td>...</td>\n",
       "      <td>...</td>\n",
       "      <td>...</td>\n",
       "      <td>...</td>\n",
       "      <td>...</td>\n",
       "      <td>...</td>\n",
       "      <td>...</td>\n",
       "      <td>...</td>\n",
       "      <td>...</td>\n",
       "      <td>...</td>\n",
       "      <td>...</td>\n",
       "      <td>...</td>\n",
       "      <td>...</td>\n",
       "      <td>...</td>\n",
       "      <td>...</td>\n",
       "      <td>...</td>\n",
       "      <td>...</td>\n",
       "      <td>...</td>\n",
       "      <td>...</td>\n",
       "      <td>...</td>\n",
       "      <td>...</td>\n",
       "    </tr>\n",
       "    <tr>\n",
       "      <th>106739</th>\n",
       "      <td>1745</td>\n",
       "      <td>865456</td>\n",
       "      <td>0.0</td>\n",
       "      <td>317</td>\n",
       "      <td>GROCERY</td>\n",
       "      <td>National</td>\n",
       "      <td>CHEESE</td>\n",
       "      <td>LOAF CHEESE</td>\n",
       "      <td>L     2 LB</td>\n",
       "      <td>45-54</td>\n",
       "      <td>...</td>\n",
       "      <td>0</td>\n",
       "      <td>0</td>\n",
       "      <td>0</td>\n",
       "      <td>0</td>\n",
       "      <td>1.0</td>\n",
       "      <td>19.0</td>\n",
       "      <td>1.984020</td>\n",
       "      <td>9.576517</td>\n",
       "      <td>3.99</td>\n",
       "      <td>1.399986</td>\n",
       "    </tr>\n",
       "    <tr>\n",
       "      <th>106740</th>\n",
       "      <td>1745</td>\n",
       "      <td>1004906</td>\n",
       "      <td>0.0</td>\n",
       "      <td>69</td>\n",
       "      <td>PRODUCE</td>\n",
       "      <td>Private</td>\n",
       "      <td>POTATOES</td>\n",
       "      <td>POTATOES RUSSET (BULK&amp;BAG)</td>\n",
       "      <td>5 LB</td>\n",
       "      <td>45-54</td>\n",
       "      <td>...</td>\n",
       "      <td>0</td>\n",
       "      <td>0</td>\n",
       "      <td>0</td>\n",
       "      <td>0</td>\n",
       "      <td>1.0</td>\n",
       "      <td>47.0</td>\n",
       "      <td>3.805876</td>\n",
       "      <td>12.349325</td>\n",
       "      <td>1.39</td>\n",
       "      <td>0.568198</td>\n",
       "    </tr>\n",
       "    <tr>\n",
       "      <th>106741</th>\n",
       "      <td>1745</td>\n",
       "      <td>828106</td>\n",
       "      <td>0.0</td>\n",
       "      <td>2945</td>\n",
       "      <td>MEAT</td>\n",
       "      <td>National</td>\n",
       "      <td>BEEF</td>\n",
       "      <td>CHOICE BEEF</td>\n",
       "      <td></td>\n",
       "      <td>45-54</td>\n",
       "      <td>...</td>\n",
       "      <td>0</td>\n",
       "      <td>0</td>\n",
       "      <td>0</td>\n",
       "      <td>0</td>\n",
       "      <td>1.0</td>\n",
       "      <td>3.4</td>\n",
       "      <td>2.204211</td>\n",
       "      <td>1.542502</td>\n",
       "      <td>19.09</td>\n",
       "      <td>3.075359</td>\n",
       "    </tr>\n",
       "    <tr>\n",
       "      <th>106742</th>\n",
       "      <td>1745</td>\n",
       "      <td>1059902</td>\n",
       "      <td>0.0</td>\n",
       "      <td>69</td>\n",
       "      <td>GROCERY</td>\n",
       "      <td>Private</td>\n",
       "      <td>SUGARS/SWEETNERS</td>\n",
       "      <td>SUGAR</td>\n",
       "      <td>10 LB</td>\n",
       "      <td>45-54</td>\n",
       "      <td>...</td>\n",
       "      <td>0</td>\n",
       "      <td>0</td>\n",
       "      <td>0</td>\n",
       "      <td>0</td>\n",
       "      <td>1.0</td>\n",
       "      <td>4.4</td>\n",
       "      <td>1.984020</td>\n",
       "      <td>2.217720</td>\n",
       "      <td>3.69</td>\n",
       "      <td>1.294724</td>\n",
       "    </tr>\n",
       "    <tr>\n",
       "      <th>106743</th>\n",
       "      <td>1745</td>\n",
       "      <td>893830</td>\n",
       "      <td>0.0</td>\n",
       "      <td>69</td>\n",
       "      <td>GROCERY</td>\n",
       "      <td>Private</td>\n",
       "      <td>SOFT DRINKS</td>\n",
       "      <td>SOFT DRINKS 20PK&amp;24PK CAN CARB</td>\n",
       "      <td>12 OZ</td>\n",
       "      <td>45-54</td>\n",
       "      <td>...</td>\n",
       "      <td>0</td>\n",
       "      <td>0</td>\n",
       "      <td>0</td>\n",
       "      <td>0</td>\n",
       "      <td>1.0</td>\n",
       "      <td>0.0</td>\n",
       "      <td>1.984020</td>\n",
       "      <td>0.000000</td>\n",
       "      <td>3.93</td>\n",
       "      <td>1.378934</td>\n",
       "    </tr>\n",
       "  </tbody>\n",
       "</table>\n",
       "<p>106744 rows × 85 columns</p>\n",
       "</div>"
      ],
      "text/plain": [
       "        user_id  item_id  target  manufacturer  department     brand  \\\n",
       "0          2070  1029743     0.0            69     GROCERY   Private   \n",
       "1          2070   913210     1.0             2     GROCERY  National   \n",
       "2          2070  1016800     0.0           103     GROCERY  National   \n",
       "3          2070   933067     1.0          1425  MEAT-PCKGD  National   \n",
       "4          2070   838186     1.0          1790     GROCERY  National   \n",
       "...         ...      ...     ...           ...         ...       ...   \n",
       "106739     1745   865456     0.0           317     GROCERY  National   \n",
       "106740     1745  1004906     0.0            69     PRODUCE   Private   \n",
       "106741     1745   828106     0.0          2945        MEAT  National   \n",
       "106742     1745  1059902     0.0            69     GROCERY   Private   \n",
       "106743     1745   893830     0.0            69     GROCERY   Private   \n",
       "\n",
       "                        commodity_desc              sub_commodity_desc  \\\n",
       "0                  FLUID MILK PRODUCTS           FLUID MILK WHITE ONLY   \n",
       "1       WATER - CARBONATED/FLVRD DRINK  NON-CRBNTD DRNKING/MNERAL WATE   \n",
       "2                          SOFT DRINKS  SOFT DRINKS 12/18&15PK CAN CAR   \n",
       "3                                BACON                  FLAVORED/OTHER   \n",
       "4                    BAKED SWEET GOODS                   SW GDS:DONUTS   \n",
       "...                                ...                             ...   \n",
       "106739                          CHEESE                     LOAF CHEESE   \n",
       "106740                        POTATOES      POTATOES RUSSET (BULK&BAG)   \n",
       "106741                            BEEF                     CHOICE BEEF   \n",
       "106742                SUGARS/SWEETNERS                           SUGAR   \n",
       "106743                     SOFT DRINKS  SOFT DRINKS 20PK&24PK CAN CARB   \n",
       "\n",
       "       curr_size_of_product age_desc  ... qpbd_SEAFOOD-PCKGD qpbd_SPIRITS  \\\n",
       "0                      1 GA    45-54  ...                  1            0   \n",
       "1                  405.6 OZ    45-54  ...                  1            0   \n",
       "2                     12 OZ    45-54  ...                  1            0   \n",
       "3                     16 OZ    45-54  ...                  1            0   \n",
       "4                   18.2 OZ    45-54  ...                  1            0   \n",
       "...                     ...      ...  ...                ...          ...   \n",
       "106739           L     2 LB    45-54  ...                  0            0   \n",
       "106740                 5 LB    45-54  ...                  0            0   \n",
       "106741                         45-54  ...                  0            0   \n",
       "106742                10 LB    45-54  ...                  0            0   \n",
       "106743                12 OZ    45-54  ...                  0            0   \n",
       "\n",
       "       qpbd_TRAVEL & LEISUR qpbd_VIDEO frec_purchase items_week  \\\n",
       "0                         0          0        3510.0      254.2   \n",
       "1                         0          0        3510.0       24.2   \n",
       "2                         0          0        3510.0        5.6   \n",
       "3                         0          0        3510.0       11.8   \n",
       "4                         0          0        3510.0       11.2   \n",
       "...                     ...        ...           ...        ...   \n",
       "106739                    0          0           1.0       19.0   \n",
       "106740                    0          0           1.0       47.0   \n",
       "106741                    0          0           1.0        3.4   \n",
       "106742                    0          0           1.0        4.4   \n",
       "106743                    0          0           1.0        0.0   \n",
       "\n",
       "        average_purchase_by_department  items_week_vs_apbd  price  \\\n",
       "0                             1.984020          128.123713   2.49   \n",
       "1                             1.984020           12.197458   3.99   \n",
       "2                             1.984020            2.822552   0.82   \n",
       "3                             1.993160            5.920246   2.50   \n",
       "4                             1.984020            5.645105   4.49   \n",
       "...                                ...                 ...    ...   \n",
       "106739                        1.984020            9.576517   3.99   \n",
       "106740                        3.805876           12.349325   1.39   \n",
       "106741                        2.204211            1.542502  19.09   \n",
       "106742                        1.984020            2.217720   3.69   \n",
       "106743                        1.984020            0.000000   3.93   \n",
       "\n",
       "        price_vs_apc  \n",
       "0           0.873676  \n",
       "1           1.399986  \n",
       "2           0.287716  \n",
       "3           0.808983  \n",
       "4           1.575423  \n",
       "...              ...  \n",
       "106739      1.399986  \n",
       "106740      0.568198  \n",
       "106741      3.075359  \n",
       "106742      1.294724  \n",
       "106743      1.378934  \n",
       "\n",
       "[106744 rows x 85 columns]"
      ]
     },
     "execution_count": 120,
     "metadata": {},
     "output_type": "execute_result"
    }
   ],
   "source": [
    "df_ranker_train = df_ranker_train.merge(aov_df, on='user_id', how='left')\n",
    "df_ranker_train = df_ranker_train.merge(aov_one_item_by_category, on='user_id', how='left')\n",
    "df_ranker_train = df_ranker_train.merge(q_purchase_by_department, on='user_id', how='left')\n",
    "df_ranker_train = df_ranker_train.merge(frec_purchase, on='user_id', how='left')\n",
    "\n",
    "df_ranker_train = df_ranker_train.merge(items_week, on='item_id', how='left')\n",
    "df_ranker_train.items_week.fillna(0, inplace=True)\n",
    "df_ranker_train = df_ranker_train.merge(average_purchase_by_department, on='department', how='left')\n",
    "df_ranker_train.average_purchase_by_department.fillna(0, inplace=True)\n",
    "df_ranker_train = df_ranker_train.merge(items_week_vs_apbd, on='item_id', how='left')\n",
    "df_ranker_train.items_week_vs_apbd.fillna(0, inplace=True)\n",
    "df_ranker_train = df_ranker_train.merge(price_vs_apc, on='item_id', how='left')\n",
    "\n",
    "df_ranker_train"
   ]
  },
  {
   "cell_type": "code",
   "execution_count": 121,
   "metadata": {},
   "outputs": [],
   "source": [
    "def get_aov_by_department(x):\n",
    "    col = x['department']\n",
    "    return x[col] / x['price']"
   ]
  },
  {
   "cell_type": "code",
   "execution_count": 122,
   "metadata": {
    "scrolled": false
   },
   "outputs": [
    {
     "data": {
      "text/html": [
       "<div>\n",
       "<style scoped>\n",
       "    .dataframe tbody tr th:only-of-type {\n",
       "        vertical-align: middle;\n",
       "    }\n",
       "\n",
       "    .dataframe tbody tr th {\n",
       "        vertical-align: top;\n",
       "    }\n",
       "\n",
       "    .dataframe thead th {\n",
       "        text-align: right;\n",
       "    }\n",
       "</style>\n",
       "<table border=\"1\" class=\"dataframe\">\n",
       "  <thead>\n",
       "    <tr style=\"text-align: right;\">\n",
       "      <th></th>\n",
       "      <th>user_id</th>\n",
       "      <th>item_id</th>\n",
       "      <th>target</th>\n",
       "      <th>manufacturer</th>\n",
       "      <th>department</th>\n",
       "      <th>brand</th>\n",
       "      <th>commodity_desc</th>\n",
       "      <th>sub_commodity_desc</th>\n",
       "      <th>curr_size_of_product</th>\n",
       "      <th>age_desc</th>\n",
       "      <th>...</th>\n",
       "      <th>qpbd_SPIRITS</th>\n",
       "      <th>qpbd_TRAVEL &amp; LEISUR</th>\n",
       "      <th>qpbd_VIDEO</th>\n",
       "      <th>frec_purchase</th>\n",
       "      <th>items_week</th>\n",
       "      <th>average_purchase_by_department</th>\n",
       "      <th>items_week_vs_apbd</th>\n",
       "      <th>price</th>\n",
       "      <th>price_vs_apc</th>\n",
       "      <th>aov_cat_vs_price</th>\n",
       "    </tr>\n",
       "  </thead>\n",
       "  <tbody>\n",
       "    <tr>\n",
       "      <th>0</th>\n",
       "      <td>2070</td>\n",
       "      <td>1029743</td>\n",
       "      <td>0.0</td>\n",
       "      <td>69</td>\n",
       "      <td>GROCERY</td>\n",
       "      <td>Private</td>\n",
       "      <td>FLUID MILK PRODUCTS</td>\n",
       "      <td>FLUID MILK WHITE ONLY</td>\n",
       "      <td>1 GA</td>\n",
       "      <td>45-54</td>\n",
       "      <td>...</td>\n",
       "      <td>0</td>\n",
       "      <td>0</td>\n",
       "      <td>0</td>\n",
       "      <td>3510.0</td>\n",
       "      <td>254.2</td>\n",
       "      <td>1.98402</td>\n",
       "      <td>128.123713</td>\n",
       "      <td>2.49</td>\n",
       "      <td>0.873676</td>\n",
       "      <td>0.586968</td>\n",
       "    </tr>\n",
       "    <tr>\n",
       "      <th>1</th>\n",
       "      <td>2070</td>\n",
       "      <td>913210</td>\n",
       "      <td>1.0</td>\n",
       "      <td>2</td>\n",
       "      <td>GROCERY</td>\n",
       "      <td>National</td>\n",
       "      <td>WATER - CARBONATED/FLVRD DRINK</td>\n",
       "      <td>NON-CRBNTD DRNKING/MNERAL WATE</td>\n",
       "      <td>405.6 OZ</td>\n",
       "      <td>45-54</td>\n",
       "      <td>...</td>\n",
       "      <td>0</td>\n",
       "      <td>0</td>\n",
       "      <td>0</td>\n",
       "      <td>3510.0</td>\n",
       "      <td>24.2</td>\n",
       "      <td>1.98402</td>\n",
       "      <td>12.197458</td>\n",
       "      <td>3.99</td>\n",
       "      <td>1.399986</td>\n",
       "      <td>0.366303</td>\n",
       "    </tr>\n",
       "    <tr>\n",
       "      <th>2</th>\n",
       "      <td>2070</td>\n",
       "      <td>1016800</td>\n",
       "      <td>0.0</td>\n",
       "      <td>103</td>\n",
       "      <td>GROCERY</td>\n",
       "      <td>National</td>\n",
       "      <td>SOFT DRINKS</td>\n",
       "      <td>SOFT DRINKS 12/18&amp;15PK CAN CAR</td>\n",
       "      <td>12 OZ</td>\n",
       "      <td>45-54</td>\n",
       "      <td>...</td>\n",
       "      <td>0</td>\n",
       "      <td>0</td>\n",
       "      <td>0</td>\n",
       "      <td>3510.0</td>\n",
       "      <td>5.6</td>\n",
       "      <td>1.98402</td>\n",
       "      <td>2.822552</td>\n",
       "      <td>0.82</td>\n",
       "      <td>0.287716</td>\n",
       "      <td>1.782377</td>\n",
       "    </tr>\n",
       "    <tr>\n",
       "      <th>3</th>\n",
       "      <td>2070</td>\n",
       "      <td>933067</td>\n",
       "      <td>1.0</td>\n",
       "      <td>1425</td>\n",
       "      <td>MEAT-PCKGD</td>\n",
       "      <td>National</td>\n",
       "      <td>BACON</td>\n",
       "      <td>FLAVORED/OTHER</td>\n",
       "      <td>16 OZ</td>\n",
       "      <td>45-54</td>\n",
       "      <td>...</td>\n",
       "      <td>0</td>\n",
       "      <td>0</td>\n",
       "      <td>0</td>\n",
       "      <td>3510.0</td>\n",
       "      <td>11.8</td>\n",
       "      <td>1.99316</td>\n",
       "      <td>5.920246</td>\n",
       "      <td>2.50</td>\n",
       "      <td>0.808983</td>\n",
       "      <td>1.370545</td>\n",
       "    </tr>\n",
       "    <tr>\n",
       "      <th>4</th>\n",
       "      <td>2070</td>\n",
       "      <td>838186</td>\n",
       "      <td>1.0</td>\n",
       "      <td>1790</td>\n",
       "      <td>GROCERY</td>\n",
       "      <td>National</td>\n",
       "      <td>BAKED SWEET GOODS</td>\n",
       "      <td>SW GDS:DONUTS</td>\n",
       "      <td>18.2 OZ</td>\n",
       "      <td>45-54</td>\n",
       "      <td>...</td>\n",
       "      <td>0</td>\n",
       "      <td>0</td>\n",
       "      <td>0</td>\n",
       "      <td>3510.0</td>\n",
       "      <td>11.2</td>\n",
       "      <td>1.98402</td>\n",
       "      <td>5.645105</td>\n",
       "      <td>4.49</td>\n",
       "      <td>1.575423</td>\n",
       "      <td>0.325512</td>\n",
       "    </tr>\n",
       "  </tbody>\n",
       "</table>\n",
       "<p>5 rows × 86 columns</p>\n",
       "</div>"
      ],
      "text/plain": [
       "   user_id  item_id  target  manufacturer  department     brand  \\\n",
       "0     2070  1029743     0.0            69     GROCERY   Private   \n",
       "1     2070   913210     1.0             2     GROCERY  National   \n",
       "2     2070  1016800     0.0           103     GROCERY  National   \n",
       "3     2070   933067     1.0          1425  MEAT-PCKGD  National   \n",
       "4     2070   838186     1.0          1790     GROCERY  National   \n",
       "\n",
       "                   commodity_desc              sub_commodity_desc  \\\n",
       "0             FLUID MILK PRODUCTS           FLUID MILK WHITE ONLY   \n",
       "1  WATER - CARBONATED/FLVRD DRINK  NON-CRBNTD DRNKING/MNERAL WATE   \n",
       "2                     SOFT DRINKS  SOFT DRINKS 12/18&15PK CAN CAR   \n",
       "3                           BACON                  FLAVORED/OTHER   \n",
       "4               BAKED SWEET GOODS                   SW GDS:DONUTS   \n",
       "\n",
       "  curr_size_of_product age_desc  ... qpbd_SPIRITS qpbd_TRAVEL & LEISUR  \\\n",
       "0                 1 GA    45-54  ...            0                    0   \n",
       "1             405.6 OZ    45-54  ...            0                    0   \n",
       "2                12 OZ    45-54  ...            0                    0   \n",
       "3                16 OZ    45-54  ...            0                    0   \n",
       "4              18.2 OZ    45-54  ...            0                    0   \n",
       "\n",
       "  qpbd_VIDEO frec_purchase items_week average_purchase_by_department  \\\n",
       "0          0        3510.0      254.2                        1.98402   \n",
       "1          0        3510.0       24.2                        1.98402   \n",
       "2          0        3510.0        5.6                        1.98402   \n",
       "3          0        3510.0       11.8                        1.99316   \n",
       "4          0        3510.0       11.2                        1.98402   \n",
       "\n",
       "   items_week_vs_apbd  price  price_vs_apc  aov_cat_vs_price  \n",
       "0          128.123713   2.49      0.873676          0.586968  \n",
       "1           12.197458   3.99      1.399986          0.366303  \n",
       "2            2.822552   0.82      0.287716          1.782377  \n",
       "3            5.920246   2.50      0.808983          1.370545  \n",
       "4            5.645105   4.49      1.575423          0.325512  \n",
       "\n",
       "[5 rows x 86 columns]"
      ]
     },
     "execution_count": 122,
     "metadata": {},
     "output_type": "execute_result"
    }
   ],
   "source": [
    "df_ranker_train['aov_cat_vs_price'] = df_ranker_train.apply(lambda x: get_aov_by_department(x), axis=1)\n",
    "df_ranker_train.head(5)"
   ]
  },
  {
   "cell_type": "markdown",
   "metadata": {},
   "source": [
    "**(Кол-во покупок юзером конкретной категории) / (Среднее кол-во покупок всеми юзерами конкретной категории)**"
   ]
  },
  {
   "cell_type": "code",
   "execution_count": 123,
   "metadata": {},
   "outputs": [],
   "source": [
    "def get_user_purchase_ratio(x):\n",
    "    col = 'qpbd_' + x['department']\n",
    "    return x[col] / average_purchase_by_user[col]"
   ]
  },
  {
   "cell_type": "code",
   "execution_count": 125,
   "metadata": {},
   "outputs": [
    {
     "data": {
      "text/html": [
       "<div>\n",
       "<style scoped>\n",
       "    .dataframe tbody tr th:only-of-type {\n",
       "        vertical-align: middle;\n",
       "    }\n",
       "\n",
       "    .dataframe tbody tr th {\n",
       "        vertical-align: top;\n",
       "    }\n",
       "\n",
       "    .dataframe thead th {\n",
       "        text-align: right;\n",
       "    }\n",
       "</style>\n",
       "<table border=\"1\" class=\"dataframe\">\n",
       "  <thead>\n",
       "    <tr style=\"text-align: right;\">\n",
       "      <th></th>\n",
       "      <th>user_id</th>\n",
       "      <th>item_id</th>\n",
       "      <th>target</th>\n",
       "      <th>manufacturer</th>\n",
       "      <th>department</th>\n",
       "      <th>brand</th>\n",
       "      <th>commodity_desc</th>\n",
       "      <th>sub_commodity_desc</th>\n",
       "      <th>curr_size_of_product</th>\n",
       "      <th>age_desc</th>\n",
       "      <th>...</th>\n",
       "      <th>qpbd_TRAVEL &amp; LEISUR</th>\n",
       "      <th>qpbd_VIDEO</th>\n",
       "      <th>frec_purchase</th>\n",
       "      <th>items_week</th>\n",
       "      <th>average_purchase_by_department</th>\n",
       "      <th>items_week_vs_apbd</th>\n",
       "      <th>price</th>\n",
       "      <th>price_vs_apc</th>\n",
       "      <th>aov_cat_vs_price</th>\n",
       "      <th>user_purchase_ratio</th>\n",
       "    </tr>\n",
       "  </thead>\n",
       "  <tbody>\n",
       "    <tr>\n",
       "      <th>0</th>\n",
       "      <td>2070</td>\n",
       "      <td>1029743</td>\n",
       "      <td>0.0</td>\n",
       "      <td>69</td>\n",
       "      <td>GROCERY</td>\n",
       "      <td>Private</td>\n",
       "      <td>FLUID MILK PRODUCTS</td>\n",
       "      <td>FLUID MILK WHITE ONLY</td>\n",
       "      <td>1 GA</td>\n",
       "      <td>45-54</td>\n",
       "      <td>...</td>\n",
       "      <td>0</td>\n",
       "      <td>0</td>\n",
       "      <td>3510.0</td>\n",
       "      <td>254.2</td>\n",
       "      <td>1.98402</td>\n",
       "      <td>128.123713</td>\n",
       "      <td>2.49</td>\n",
       "      <td>0.873676</td>\n",
       "      <td>0.586968</td>\n",
       "      <td>3.093159</td>\n",
       "    </tr>\n",
       "    <tr>\n",
       "      <th>1</th>\n",
       "      <td>2070</td>\n",
       "      <td>913210</td>\n",
       "      <td>1.0</td>\n",
       "      <td>2</td>\n",
       "      <td>GROCERY</td>\n",
       "      <td>National</td>\n",
       "      <td>WATER - CARBONATED/FLVRD DRINK</td>\n",
       "      <td>NON-CRBNTD DRNKING/MNERAL WATE</td>\n",
       "      <td>405.6 OZ</td>\n",
       "      <td>45-54</td>\n",
       "      <td>...</td>\n",
       "      <td>0</td>\n",
       "      <td>0</td>\n",
       "      <td>3510.0</td>\n",
       "      <td>24.2</td>\n",
       "      <td>1.98402</td>\n",
       "      <td>12.197458</td>\n",
       "      <td>3.99</td>\n",
       "      <td>1.399986</td>\n",
       "      <td>0.366303</td>\n",
       "      <td>3.093159</td>\n",
       "    </tr>\n",
       "    <tr>\n",
       "      <th>2</th>\n",
       "      <td>2070</td>\n",
       "      <td>1016800</td>\n",
       "      <td>0.0</td>\n",
       "      <td>103</td>\n",
       "      <td>GROCERY</td>\n",
       "      <td>National</td>\n",
       "      <td>SOFT DRINKS</td>\n",
       "      <td>SOFT DRINKS 12/18&amp;15PK CAN CAR</td>\n",
       "      <td>12 OZ</td>\n",
       "      <td>45-54</td>\n",
       "      <td>...</td>\n",
       "      <td>0</td>\n",
       "      <td>0</td>\n",
       "      <td>3510.0</td>\n",
       "      <td>5.6</td>\n",
       "      <td>1.98402</td>\n",
       "      <td>2.822552</td>\n",
       "      <td>0.82</td>\n",
       "      <td>0.287716</td>\n",
       "      <td>1.782377</td>\n",
       "      <td>3.093159</td>\n",
       "    </tr>\n",
       "    <tr>\n",
       "      <th>3</th>\n",
       "      <td>2070</td>\n",
       "      <td>933067</td>\n",
       "      <td>1.0</td>\n",
       "      <td>1425</td>\n",
       "      <td>MEAT-PCKGD</td>\n",
       "      <td>National</td>\n",
       "      <td>BACON</td>\n",
       "      <td>FLAVORED/OTHER</td>\n",
       "      <td>16 OZ</td>\n",
       "      <td>45-54</td>\n",
       "      <td>...</td>\n",
       "      <td>0</td>\n",
       "      <td>0</td>\n",
       "      <td>3510.0</td>\n",
       "      <td>11.8</td>\n",
       "      <td>1.99316</td>\n",
       "      <td>5.920246</td>\n",
       "      <td>2.50</td>\n",
       "      <td>0.808983</td>\n",
       "      <td>1.370545</td>\n",
       "      <td>2.785952</td>\n",
       "    </tr>\n",
       "    <tr>\n",
       "      <th>4</th>\n",
       "      <td>2070</td>\n",
       "      <td>838186</td>\n",
       "      <td>1.0</td>\n",
       "      <td>1790</td>\n",
       "      <td>GROCERY</td>\n",
       "      <td>National</td>\n",
       "      <td>BAKED SWEET GOODS</td>\n",
       "      <td>SW GDS:DONUTS</td>\n",
       "      <td>18.2 OZ</td>\n",
       "      <td>45-54</td>\n",
       "      <td>...</td>\n",
       "      <td>0</td>\n",
       "      <td>0</td>\n",
       "      <td>3510.0</td>\n",
       "      <td>11.2</td>\n",
       "      <td>1.98402</td>\n",
       "      <td>5.645105</td>\n",
       "      <td>4.49</td>\n",
       "      <td>1.575423</td>\n",
       "      <td>0.325512</td>\n",
       "      <td>3.093159</td>\n",
       "    </tr>\n",
       "  </tbody>\n",
       "</table>\n",
       "<p>5 rows × 87 columns</p>\n",
       "</div>"
      ],
      "text/plain": [
       "   user_id  item_id  target  manufacturer  department     brand  \\\n",
       "0     2070  1029743     0.0            69     GROCERY   Private   \n",
       "1     2070   913210     1.0             2     GROCERY  National   \n",
       "2     2070  1016800     0.0           103     GROCERY  National   \n",
       "3     2070   933067     1.0          1425  MEAT-PCKGD  National   \n",
       "4     2070   838186     1.0          1790     GROCERY  National   \n",
       "\n",
       "                   commodity_desc              sub_commodity_desc  \\\n",
       "0             FLUID MILK PRODUCTS           FLUID MILK WHITE ONLY   \n",
       "1  WATER - CARBONATED/FLVRD DRINK  NON-CRBNTD DRNKING/MNERAL WATE   \n",
       "2                     SOFT DRINKS  SOFT DRINKS 12/18&15PK CAN CAR   \n",
       "3                           BACON                  FLAVORED/OTHER   \n",
       "4               BAKED SWEET GOODS                   SW GDS:DONUTS   \n",
       "\n",
       "  curr_size_of_product age_desc  ... qpbd_TRAVEL & LEISUR qpbd_VIDEO  \\\n",
       "0                 1 GA    45-54  ...                    0          0   \n",
       "1             405.6 OZ    45-54  ...                    0          0   \n",
       "2                12 OZ    45-54  ...                    0          0   \n",
       "3                16 OZ    45-54  ...                    0          0   \n",
       "4              18.2 OZ    45-54  ...                    0          0   \n",
       "\n",
       "  frec_purchase items_week average_purchase_by_department items_week_vs_apbd  \\\n",
       "0        3510.0      254.2                        1.98402         128.123713   \n",
       "1        3510.0       24.2                        1.98402          12.197458   \n",
       "2        3510.0        5.6                        1.98402           2.822552   \n",
       "3        3510.0       11.8                        1.99316           5.920246   \n",
       "4        3510.0       11.2                        1.98402           5.645105   \n",
       "\n",
       "   price  price_vs_apc  aov_cat_vs_price  user_purchase_ratio  \n",
       "0   2.49      0.873676          0.586968             3.093159  \n",
       "1   3.99      1.399986          0.366303             3.093159  \n",
       "2   0.82      0.287716          1.782377             3.093159  \n",
       "3   2.50      0.808983          1.370545             2.785952  \n",
       "4   4.49      1.575423          0.325512             3.093159  \n",
       "\n",
       "[5 rows x 87 columns]"
      ]
     },
     "execution_count": 125,
     "metadata": {},
     "output_type": "execute_result"
    }
   ],
   "source": [
    "cols = q_purchase_by_department.columns.tolist()\n",
    "average_purchase_by_user = df_ranker_train[cols].apply(np.mean, axis=0)\n",
    "df_ranker_train['user_purchase_ratio'] = df_ranker_train.apply(lambda x: get_user_purchase_ratio(x), axis=1)\n",
    "df_ranker_train.head(5)"
   ]
  },
  {
   "cell_type": "markdown",
   "metadata": {},
   "source": [
    "## Обучение модели ранжирования"
   ]
  },
  {
   "cell_type": "code",
   "execution_count": 126,
   "metadata": {},
   "outputs": [],
   "source": [
    "X_train = df_ranker_train.drop('target', axis=1)\n",
    "y_train = df_ranker_train[['target']]"
   ]
  },
  {
   "cell_type": "code",
   "execution_count": 127,
   "metadata": {},
   "outputs": [
    {
     "data": {
      "text/plain": [
       "['manufacturer',\n",
       " 'department',\n",
       " 'brand',\n",
       " 'commodity_desc',\n",
       " 'sub_commodity_desc',\n",
       " 'curr_size_of_product',\n",
       " 'age_desc',\n",
       " 'marital_status_code',\n",
       " 'income_desc',\n",
       " 'homeowner_desc',\n",
       " 'hh_comp_desc',\n",
       " 'household_size_desc',\n",
       " 'kid_category_desc']"
      ]
     },
     "execution_count": 127,
     "metadata": {},
     "output_type": "execute_result"
    }
   ],
   "source": [
    "cat_feats = main_features[2:]\n",
    "X_train[cat_feats] = X_train[cat_feats].astype('category')\n",
    "\n",
    "cat_feats"
   ]
  },
  {
   "cell_type": "code",
   "execution_count": 170,
   "metadata": {},
   "outputs": [
    {
     "name": "stderr",
     "output_type": "stream",
     "text": [
      "C:\\Users\\anaconda3\\lib\\site-packages\\sklearn\\utils\\validation.py:72: DataConversionWarning: A column-vector y was passed when a 1d array was expected. Please change the shape of y to (n_samples, ), for example using ravel().\n",
      "  return f(**kwargs)\n",
      "C:\\Users\\anaconda3\\lib\\site-packages\\lightgbm\\basic.py:1513: UserWarning: categorical_column in param dict is overridden.\n",
      "  _log_warning(f'{cat_alias} in param dict is overridden.')\n"
     ]
    }
   ],
   "source": [
    "lgb = LGBMClassifier(objective='binary',\n",
    "                     max_depth=8,\n",
    "                     n_estimators=300,\n",
    "                     learning_rate=0.05,\n",
    "                     categorical_column=cat_feats)\n",
    "\n",
    "lgb.fit(X_train, y_train)\n",
    "\n",
    "train_preds = lgb.predict_proba(X_train)"
   ]
  },
  {
   "cell_type": "code",
   "execution_count": 171,
   "metadata": {},
   "outputs": [],
   "source": [
    "df_ranker_predict = df_ranker_train.copy()\n",
    "df_ranker_predict['proba_item_purchase'] = train_preds[:,1]"
   ]
  },
  {
   "cell_type": "code",
   "execution_count": 130,
   "metadata": {},
   "outputs": [
    {
     "data": {
      "text/html": [
       "<div>\n",
       "<style scoped>\n",
       "    .dataframe tbody tr th:only-of-type {\n",
       "        vertical-align: middle;\n",
       "    }\n",
       "\n",
       "    .dataframe tbody tr th {\n",
       "        vertical-align: top;\n",
       "    }\n",
       "\n",
       "    .dataframe thead th {\n",
       "        text-align: right;\n",
       "    }\n",
       "</style>\n",
       "<table border=\"1\" class=\"dataframe\">\n",
       "  <thead>\n",
       "    <tr style=\"text-align: right;\">\n",
       "      <th></th>\n",
       "      <th>user_id</th>\n",
       "      <th>actual</th>\n",
       "    </tr>\n",
       "  </thead>\n",
       "  <tbody>\n",
       "    <tr>\n",
       "      <th>0</th>\n",
       "      <td>1</td>\n",
       "      <td>[821867, 834484, 856942, 865456, 889248, 90795...</td>\n",
       "    </tr>\n",
       "    <tr>\n",
       "      <th>1</th>\n",
       "      <td>3</td>\n",
       "      <td>[835476, 851057, 872021, 878302, 879948, 90963...</td>\n",
       "    </tr>\n",
       "  </tbody>\n",
       "</table>\n",
       "</div>"
      ],
      "text/plain": [
       "   user_id                                             actual\n",
       "0        1  [821867, 834484, 856942, 865456, 889248, 90795...\n",
       "1        3  [835476, 851057, 872021, 878302, 879948, 90963..."
      ]
     },
     "execution_count": 130,
     "metadata": {},
     "output_type": "execute_result"
    }
   ],
   "source": [
    "result_eval_ranker = data_val_ranker.groupby(USER_COL)[ITEM_COL].unique().reset_index()\n",
    "result_eval_ranker.columns=[USER_COL, ACTUAL_COL]\n",
    "result_eval_ranker.head(2)"
   ]
  },
  {
   "cell_type": "code",
   "execution_count": 131,
   "metadata": {},
   "outputs": [
    {
     "name": "stdout",
     "output_type": "stream",
     "text": [
      "Wall time: 15min 11s\n"
     ]
    }
   ],
   "source": [
    "%%time\n",
    "result_eval_ranker['own_rec'] = result_eval_ranker[USER_COL].apply(lambda x: recommender.get_own_recommendations(x, N=N_PREDICT))"
   ]
  },
  {
   "cell_type": "code",
   "execution_count": 132,
   "metadata": {},
   "outputs": [
    {
     "data": {
      "text/plain": [
       "[('own_rec', 0.2750980392156849)]"
      ]
     },
     "execution_count": 132,
     "metadata": {},
     "output_type": "execute_result"
    }
   ],
   "source": [
    "# померяем precision только модели матчинга, чтобы понимать влияение ранжирования на метрики\n",
    "\n",
    "sorted(calc_precision(result_eval_ranker, TOPK_PRECISION), key=lambda x: x[1], reverse=True)"
   ]
  },
  {
   "cell_type": "code",
   "execution_count": 133,
   "metadata": {},
   "outputs": [],
   "source": [
    "def rerank(user_id):\n",
    "    return df_ranker_predict[df_ranker_predict[USER_COL]==user_id].sort_values('proba_item_purchase', ascending=False).head(5).item_id.tolist()"
   ]
  },
  {
   "cell_type": "code",
   "execution_count": 172,
   "metadata": {},
   "outputs": [],
   "source": [
    "result_eval_ranker['reranked_own_rec'] = result_eval_ranker[USER_COL].apply(lambda user_id: rerank(user_id))"
   ]
  },
  {
   "cell_type": "code",
   "execution_count": 173,
   "metadata": {},
   "outputs": [
    {
     "name": "stderr",
     "output_type": "stream",
     "text": [
      "C:\\Users\\Илья\\Desktop\\GeekBrains\\Рекомендательные системы\\webinar_6\\metrics.py:20: RuntimeWarning: invalid value encountered in long_scalars\n",
      "  return flags.sum() / len(recommended_list)\n"
     ]
    },
    {
     "name": "stdout",
     "output_type": "stream",
     "text": [
      "('own_rec', 0.2750980392156849)\n",
      "('reranked_own_rec', 0.24208877284595093)\n"
     ]
    }
   ],
   "source": [
    "print(*sorted(calc_precision(result_eval_ranker, TOPK_PRECISION), key=lambda x: x[1], reverse=True), sep='\\n')"
   ]
  },
  {
   "cell_type": "markdown",
   "metadata": {},
   "source": [
    "Пробуем подобрать параметры модели."
   ]
  },
  {
   "cell_type": "code",
   "execution_count": 174,
   "metadata": {},
   "outputs": [
    {
     "name": "stderr",
     "output_type": "stream",
     "text": [
      "C:\\Users\\anaconda3\\lib\\site-packages\\sklearn\\utils\\validation.py:72: DataConversionWarning: A column-vector y was passed when a 1d array was expected. Please change the shape of y to (n_samples, ), for example using ravel().\n",
      "  return f(**kwargs)\n",
      "C:\\Users\\anaconda3\\lib\\site-packages\\lightgbm\\basic.py:1513: UserWarning: categorical_column in param dict is overridden.\n",
      "  _log_warning(f'{cat_alias} in param dict is overridden.')\n",
      "C:\\Users\\Илья\\Desktop\\GeekBrains\\Рекомендательные системы\\webinar_6\\metrics.py:20: RuntimeWarning: invalid value encountered in long_scalars\n",
      "  return flags.sum() / len(recommended_list)\n"
     ]
    },
    {
     "name": "stdout",
     "output_type": "stream",
     "text": [
      "0.25827676240208625\n"
     ]
    }
   ],
   "source": [
    "lgb = LGBMClassifier(objective='binary',\n",
    "                     max_depth=12,\n",
    "                     min_child_samples=300,\n",
    "                     n_estimators=300,\n",
    "                     learning_rate=0.4,\n",
    "                     categorical_column=cat_feats)\n",
    "\n",
    "lgb.fit(X_train, y_train)\n",
    "\n",
    "train_preds = lgb.predict_proba(X_train)\n",
    "\n",
    "df_ranker_predict = df_ranker_train.copy()\n",
    "df_ranker_predict['proba_item_purchase'] = train_preds[:,1]\n",
    "\n",
    "result_eval_ranker['reranked_own_rec'] = result_eval_ranker[USER_COL].apply(lambda user_id: rerank(user_id))\n",
    "\n",
    "print(result_eval_ranker.apply(lambda row: precision_at_k(row['reranked_own_rec'], row[ACTUAL_COL], k=5), axis=1).mean())"
   ]
  }
 ],
 "metadata": {
  "kernelspec": {
   "display_name": "Python 3 (ipykernel)",
   "language": "python",
   "name": "python3"
  },
  "language_info": {
   "codemirror_mode": {
    "name": "ipython",
    "version": 3
   },
   "file_extension": ".py",
   "mimetype": "text/x-python",
   "name": "python",
   "nbconvert_exporter": "python",
   "pygments_lexer": "ipython3",
   "version": "3.9.12"
  }
 },
 "nbformat": 4,
 "nbformat_minor": 4
}
